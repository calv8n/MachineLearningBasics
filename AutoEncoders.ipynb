{
 "cells": [
  {
   "cell_type": "markdown",
   "id": "cde9ee47-3942-47b9-a335-c20fd007e6c3",
   "metadata": {},
   "source": [
    "<h1>\n",
    "    AutoEncoders\n",
    "</h1>"
   ]
  },
  {
   "cell_type": "code",
   "execution_count": 1,
   "id": "bd52c46b-cd1d-4331-8a2b-f23feb885534",
   "metadata": {},
   "outputs": [],
   "source": [
    "import tensorflow as tf\n",
    "import numpy as np"
   ]
  },
  {
   "cell_type": "code",
   "execution_count": 2,
   "id": "48bf8596-2278-45c7-9016-3a0410dd659e",
   "metadata": {},
   "outputs": [],
   "source": [
    "n_inputs = 3 # 3D inputs\n",
    "n_hidden = 2 # 2D codings"
   ]
  },
  {
   "cell_type": "code",
   "execution_count": 7,
   "id": "f284d45f-d227-4132-a89a-c914afdc6cdc",
   "metadata": {},
   "outputs": [],
   "source": [
    "n_outputs = n_inputs"
   ]
  },
  {
   "cell_type": "code",
   "execution_count": 8,
   "id": "bb0966f8-a038-498e-8330-74d251b55af7",
   "metadata": {},
   "outputs": [],
   "source": [
    "learning_rate = 0.01"
   ]
  },
  {
   "cell_type": "code",
   "execution_count": 3,
   "id": "e6026445-ef13-460f-8672-82b7db725309",
   "metadata": {},
   "outputs": [],
   "source": [
    "tf.compat.v1.disable_eager_execution()"
   ]
  },
  {
   "cell_type": "code",
   "execution_count": 10,
   "id": "0895fce9-1579-48fd-9577-7ea613513e25",
   "metadata": {},
   "outputs": [],
   "source": [
    "X = tf.compat.v1.placeholder(tf.float32, shape=[None, n_inputs])\n",
    "hidden = tf.keras.layers.Dense(n_hidden, activation=None)(X)\n",
    "outputs = tf.keras.layers.Dense(n_outputs, activation=None)(hidden)"
   ]
  },
  {
   "cell_type": "code",
   "execution_count": 11,
   "id": "e466f203-4263-4462-9aa0-5697931b6deb",
   "metadata": {},
   "outputs": [],
   "source": [
    "reconstruction_loss = tf.reduce_mean(tf.square(outputs - X)) #MSE"
   ]
  },
  {
   "cell_type": "code",
   "execution_count": 12,
   "id": "46513f4b-1699-4392-9cd7-d615951f66b1",
   "metadata": {},
   "outputs": [],
   "source": [
    "optimizer = tf.compat.v1.train.AdamOptimizer(learning_rate)\n",
    "training_op = optimizer.minimize(reconstruction_loss)"
   ]
  },
  {
   "cell_type": "code",
   "execution_count": 13,
   "id": "0982bacd-0e5f-4810-80ec-b2a76385c780",
   "metadata": {},
   "outputs": [],
   "source": [
    "init = tf.compat.v1.global_variables_initializer()"
   ]
  },
  {
   "cell_type": "code",
   "execution_count": 14,
   "id": "bda47482-0fe1-4bd5-9a0f-e2164b41b5c9",
   "metadata": {},
   "outputs": [],
   "source": [
    "import numpy.random as rnd\n",
    "\n",
    "rnd.seed(4)\n",
    "m = 200\n",
    "w1, w2 = 0.1, 0.3\n",
    "noise = 0.1\n",
    "\n",
    "angles = rnd.rand(m) * 3 * np.pi / 2 - 0.5\n",
    "data = np.empty((m, 3))\n",
    "data[:, 0] = np.cos(angles) + np.sin(angles)/2 + noise * rnd.randn(m) / 2\n",
    "data[:, 1] = np.sin(angles) * 0.7 + noise * rnd.randn(m) / 2\n",
    "data[:, 2] = data[:, 0] * w1 + data[:, 1] * w2 + noise * rnd.randn(m)"
   ]
  },
  {
   "cell_type": "code",
   "execution_count": 15,
   "id": "18caed7b-a5d0-46fb-84cc-af4ee42fba55",
   "metadata": {},
   "outputs": [],
   "source": [
    "from sklearn.preprocessing import StandardScaler\n",
    "scaler = StandardScaler()\n",
    "X_train = scaler.fit_transform(data[:100])\n",
    "X_test = scaler.transform(data[100:])"
   ]
  },
  {
   "cell_type": "code",
   "execution_count": 16,
   "id": "e97165bc-1e88-4b90-aca6-5bfebd8797e7",
   "metadata": {},
   "outputs": [],
   "source": [
    "n_iterations = 1000\n",
    "codings = hidden # output of the hidden layers provides the coding"
   ]
  },
  {
   "cell_type": "code",
   "execution_count": 17,
   "id": "f3efb30d-3b36-40ef-9566-1fbf7ab5bcc1",
   "metadata": {},
   "outputs": [
    {
     "name": "stderr",
     "output_type": "stream",
     "text": [
      "2024-04-17 12:38:28.193688: I tensorflow/compiler/mlir/mlir_graph_optimization_pass.cc:388] MLIR V1 optimization pass is not enabled\n"
     ]
    }
   ],
   "source": [
    "with tf.compat.v1.Session() as sess:\n",
    "    init.run()\n",
    "    for iteration in range(n_iterations):\n",
    "        training_op.run(feed_dict={X:X_train}) # No labels, unsupervised\n",
    "    coding_val = codings.eval(feed_dict={X: X_test})"
   ]
  },
  {
   "cell_type": "code",
   "execution_count": 27,
   "id": "ede4c46e-dc27-4193-843e-f066d6d12602",
   "metadata": {},
   "outputs": [],
   "source": [
    "import matplotlib\n",
    "import matplotlib.pyplot as plt"
   ]
  },
  {
   "cell_type": "code",
   "execution_count": 19,
   "id": "a0d10f3b-5801-4dab-ba82-aadc5a71529e",
   "metadata": {},
   "outputs": [
    {
     "data": {
      "image/png": "[encoded data removed]",
      "text/plain": [
       "<Figure size 400x300 with 1 Axes>"
      ]
     },
     "metadata": {},
     "output_type": "display_data"
    }
   ],
   "source": [
    "fig = plt.figure(figsize=(4,3))\n",
    "plt.plot(coding_val[:,0], coding_val[:, 1], \"b.\")\n",
    "plt.xlabel(\"$z_1$\", fontsize=18)\n",
    "plt.ylabel(\"$z_2$\", fontsize=18, rotation=0)\n",
    "plt.show()"
   ]
  },
  {
   "cell_type": "markdown",
   "id": "0b6627e8-d3f4-42f9-bee6-9f66f162829e",
   "metadata": {},
   "source": [
    "<h3>\n",
    "    Tensorflow Implementation\n",
    "</h3>\n",
    "<p>\n",
    "    Implementing stacked autoencoder using MNIST Dataset\n",
    "</p>"
   ]
  },
  {
   "cell_type": "code",
   "execution_count": 20,
   "id": "9a71a211-21d6-4979-8f4e-64e71e90fbe1",
   "metadata": {},
   "outputs": [],
   "source": [
    "from functools import partial"
   ]
  },
  {
   "cell_type": "code",
   "execution_count": 21,
   "id": "f192eb8b-4b05-47a7-b543-63eb937bccfa",
   "metadata": {},
   "outputs": [],
   "source": [
    "n_inputs = 28 * 28\n",
    "n_hidden1 = 300\n",
    "n_hidden2 = 150\n",
    "n_hidden3 = n_hidden1\n",
    "n_outputs = n_inputs"
   ]
  },
  {
   "cell_type": "code",
   "execution_count": 22,
   "id": "c3bb880c-c47f-4f50-bfd6-b1e86560b6a1",
   "metadata": {},
   "outputs": [],
   "source": [
    "learning_rate = 0.01\n",
    "l2_reg = 0.001"
   ]
  },
  {
   "cell_type": "code",
   "execution_count": 23,
   "id": "81840817-a4e9-40ae-a189-246d9b227855",
   "metadata": {},
   "outputs": [],
   "source": [
    "X = tf.compat.v1.placeholder(tf.float32, shape=[None, n_inputs])"
   ]
  },
  {
   "cell_type": "code",
   "execution_count": 24,
   "id": "f95f8cfe-65f8-46ea-b278-de147608d007",
   "metadata": {},
   "outputs": [],
   "source": [
    "he_init = tf.compat.v1.variance_scaling_initializer()\n",
    "l2_regularizer = tf.keras.regularizers.l2(l2=l2_reg)"
   ]
  },
  {
   "cell_type": "code",
   "execution_count": 25,
   "id": "2ba06009-7eb2-4044-8c8e-c0509467a925",
   "metadata": {},
   "outputs": [],
   "source": [
    "Dense_layer = partial(\n",
    "    tf.keras.layers.Dense,\n",
    "    activation = tf.nn.elu,\n",
    "    kernel_initializer=he_init,\n",
    "    kernel_regularizer=l2_regularizer)"
   ]
  },
  {
   "cell_type": "code",
   "execution_count": 26,
   "id": "f5cfcb62-e9d7-45b3-a756-211b8b61b1c7",
   "metadata": {},
   "outputs": [],
   "source": [
    "hidden_1 = Dense_layer(n_hidden1)(X)\n",
    "hidden_2 = Dense_layer(n_hidden2)(hidden_1)\n",
    "hidden_3 = Dense_layer(n_hidden3)(hidden_2)\n",
    "outputs = Dense_layer(n_outputs)(hidden_3)"
   ]
  },
  {
   "cell_type": "code",
   "execution_count": 27,
   "id": "56078b9f-147b-469b-bd87-4c02b958b63b",
   "metadata": {},
   "outputs": [],
   "source": [
    "reconstruction_loss = tf.reduce_mean(tf.square(outputs - X)) # MSE"
   ]
  },
  {
   "cell_type": "code",
   "execution_count": 28,
   "id": "cd4ddb13-a813-4314-8847-c4074bf555eb",
   "metadata": {},
   "outputs": [],
   "source": [
    "reg_losses = tf.compat.v1.get_collection(tf.compat.v1.GraphKeys.REGULARIZATION_LOSSES)\n",
    "loss = tf.add_n([reconstruction_loss] + reg_losses)"
   ]
  },
  {
   "cell_type": "code",
   "execution_count": 29,
   "id": "bcca4284-b302-4756-8fa4-9c350d57162d",
   "metadata": {},
   "outputs": [],
   "source": [
    "optimizer = tf.compat.v1.train.AdamOptimizer(learning_rate=learning_rate)\n",
    "training_op = optimizer.minimize(loss)"
   ]
  },
  {
   "cell_type": "code",
   "execution_count": 30,
   "id": "9e6bbba7-3c9d-4395-bba6-8574eb3e9b2e",
   "metadata": {},
   "outputs": [],
   "source": [
    "init = tf.compat.v1.global_variables_initializer()"
   ]
  },
  {
   "cell_type": "code",
   "execution_count": 31,
   "id": "4bf55bba-659d-49d9-954f-5c0830cc8fd9",
   "metadata": {},
   "outputs": [],
   "source": [
    "mnist = tf.keras.datasets.mnist.load_data(\n",
    "    path='mnist.npz'\n",
    ")"
   ]
  },
  {
   "cell_type": "code",
   "execution_count": 13,
   "id": "6bd2d48c-2f73-4225-b2fd-2144b0c352f3",
   "metadata": {
    "scrolled": true
   },
   "outputs": [],
   "source": [
    "(x_train, y_train), (x_test, y_test) = tf.keras.datasets.mnist.load_data()"
   ]
  },
  {
   "cell_type": "code",
   "execution_count": 14,
   "id": "d4fdd5eb-532e-4e10-97ba-b186814b1fbf",
   "metadata": {},
   "outputs": [],
   "source": [
    "x_train = x_train.reshape(60000, 784)"
   ]
  },
  {
   "cell_type": "code",
   "execution_count": 15,
   "id": "a1d25533-4da6-418d-83b3-ba42576318bb",
   "metadata": {},
   "outputs": [],
   "source": [
    "x_test = x_test.reshape(10000, 784)"
   ]
  },
  {
   "cell_type": "code",
   "execution_count": 35,
   "id": "4e27433a-de0c-4f6d-925c-4746c60a17ee",
   "metadata": {},
   "outputs": [],
   "source": [
    "n_epochs = 5\n",
    "batch_size = 150"
   ]
  },
  {
   "cell_type": "code",
   "execution_count": 36,
   "id": "7320c689-d9d5-4f97-899d-8d37e089bc10",
   "metadata": {},
   "outputs": [],
   "source": [
    "saver = tf.compat.v1.train.Saver()\n",
    "import sys"
   ]
  },
  {
   "cell_type": "code",
   "execution_count": 37,
   "id": "55499c93-4089-4c2d-8e49-d35ef03e8442",
   "metadata": {},
   "outputs": [
    {
     "name": "stdout",
     "output_type": "stream",
     "text": [
      "0 Train MSE: 1690.3676\n",
      "1 Train MSE: 1470.2396\n",
      "2 Train MSE: 1335.3442\n",
      "3 Train MSE: 1338.1399\n",
      "4 Train MSE: 1317.8533\n"
     ]
    }
   ],
   "source": [
    "with tf.compat.v1.Session() as sess:\n",
    "    init.run()\n",
    "    for epoch in range(n_epochs):\n",
    "        num_iter = x_train.shape[0] // batch_size\n",
    "        for iter in range(num_iter):\n",
    "            x_batch = x_train[iter*batch_size:iter*batch_size+batch_size]\n",
    "            sess.run(training_op, feed_dict={\n",
    "                X: x_batch\n",
    "            }\n",
    "                    )\n",
    "        #sess.run(training_op, feed_dict={X: x_batch})\n",
    "        loss_train = reconstruction_loss.eval(feed_dict={X: x_test})   \n",
    "        print(\"\\r{}\".format(epoch), \"Train MSE:\", loss_train)           \n",
    "        saver.save(sess, \"./autoencoder.ckpt\")  "
   ]
  },
  {
   "cell_type": "code",
   "execution_count": 38,
   "id": "1e831848-df09-44cc-b228-22b33eebc68b",
   "metadata": {},
   "outputs": [],
   "source": [
    "X_exp = x_train"
   ]
  },
  {
   "cell_type": "code",
   "execution_count": 39,
   "id": "f3724782-e4be-412e-a018-2712b5c94c9f",
   "metadata": {},
   "outputs": [
    {
     "data": {
      "text/plain": [
       "(60000, 784)"
      ]
     },
     "execution_count": 39,
     "metadata": {},
     "output_type": "execute_result"
    }
   ],
   "source": [
    "X_exp.shape"
   ]
  },
  {
   "cell_type": "code",
   "execution_count": 34,
   "id": "037b1dcb-054c-4ddb-aae2-1a3c576aaccf",
   "metadata": {},
   "outputs": [],
   "source": [
    "def plot_image(image, shape=[28, 28]):\n",
    "    plt.imshow(image.reshape(shape), cmap=\"Greys\", interpolation=\"nearest\")\n",
    "    plt.axis(\"off\")"
   ]
  },
  {
   "cell_type": "code",
   "execution_count": 29,
   "id": "ab1926f8-fa03-45a9-b011-b88c7104f6fe",
   "metadata": {},
   "outputs": [],
   "source": [
    "def show_reconstructed_digits(X, outputs, model_path = None, n_test_digits = 2):\n",
    "    with tf.compat.v1.Session() as sess:\n",
    "        if model_path:\n",
    "            saver.restore(sess, model_path)\n",
    "        X_test = x_test[:n_test_digits]\n",
    "        outputs_val = outputs.eval(feed_dict={X: X_test})\n",
    "\n",
    "    fig = plt.figure(figsize=(8, 3 * n_test_digits))\n",
    "    for digit_index in range(n_test_digits):\n",
    "        plt.subplot(n_test_digits, 2, digit_index * 2 + 1)\n",
    "        plot_image(X_test[digit_index])\n",
    "        plt.subplot(n_test_digits, 2, digit_index * 2 + 2)\n",
    "        plot_image(outputs_val[digit_index])"
   ]
  },
  {
   "cell_type": "code",
   "execution_count": 42,
   "id": "6c7ca180-fe8a-40aa-9768-282bc6fd86c6",
   "metadata": {},
   "outputs": [
    {
     "name": "stdout",
     "output_type": "stream",
     "text": [
      "INFO:tensorflow:Restoring parameters from ./autoencoder.ckpt\n"
     ]
    },
    {
     "data": {
      "image/png": "[encoded data removed]",
      "text/plain": [
       "<Figure size 800x600 with 4 Axes>"
      ]
     },
     "metadata": {},
     "output_type": "display_data"
    }
   ],
   "source": [
    "show_reconstructed_digits(X, outputs, \"./autoencoder.ckpt\")"
   ]
  },
  {
   "cell_type": "markdown",
   "id": "48eec388-80b6-4a06-b7b8-ab8c9bbd7f20",
   "metadata": {},
   "source": [
    "<h3>\n",
    "    Tying Weights\n",
    "</h3>"
   ]
  },
  {
   "cell_type": "code",
   "execution_count": 4,
   "id": "343e2d4e-aa95-4b92-b634-727214aabf07",
   "metadata": {},
   "outputs": [],
   "source": [
    "def reset_graph(seed=42):\n",
    "    tf.compat.v1.reset_default_graph()\n",
    "    tf.compat.v1.set_random_seed(seed)\n",
    "    np.random.seed(seed)\n",
    "reset_graph()"
   ]
  },
  {
   "cell_type": "code",
   "execution_count": 85,
   "id": "2cc81262-7239-4478-86bf-5a899c143edb",
   "metadata": {},
   "outputs": [],
   "source": [
    "activation = tf.nn.elu\n",
    "regularizer = tf.keras.regularizers.L2(l2=l2_reg)\n",
    "initializer = tf.compat.v1.variance_scaling_initializer()"
   ]
  },
  {
   "cell_type": "code",
   "execution_count": 86,
   "id": "17287522-e621-4de9-b0ed-cd973ddc724f",
   "metadata": {},
   "outputs": [],
   "source": [
    "X = tf.compat.v1.placeholder(tf.float32, shape=[None, n_inputs])"
   ]
  },
  {
   "cell_type": "code",
   "execution_count": 87,
   "id": "94418524-d2f9-4e36-bdd9-0683f3d9016a",
   "metadata": {},
   "outputs": [],
   "source": [
    "weights1_init = initializer([n_inputs, n_hidden1])\n",
    "weights2_init = initializer([n_hidden1, n_hidden2])"
   ]
  },
  {
   "cell_type": "code",
   "execution_count": 88,
   "id": "32fa0aaf-2701-4684-b4cb-214cacf69d94",
   "metadata": {},
   "outputs": [],
   "source": [
    "weights1 = tf.Variable(weights1_init, dtype=tf.float32, name=\"weights1\")\n",
    "weights2 = tf.Variable(weights2_init, dtype=tf.float32, name=\"weights2\")\n",
    "weights3 = tf.transpose(weights2, name=\"weights3\") # Tied Weights\n",
    "weights4 = tf.transpose(weights1, name=\"weights4\") # Tied Weights"
   ]
  },
  {
   "cell_type": "code",
   "execution_count": 89,
   "id": "78a50530-d1ef-4962-9bde-9ae3ef0cd838",
   "metadata": {},
   "outputs": [],
   "source": [
    "biases1 = tf.Variable(tf.zeros(n_hidden1), name=\"biases1\")\n",
    "biases2 = tf.Variable(tf.zeros(n_hidden2), name=\"biases2\")\n",
    "biases3 = tf.Variable(tf.zeros(n_hidden3), name=\"biases3\")\n",
    "biases4 = tf.Variable(tf.zeros(n_outputs), name=\"biases4\")"
   ]
  },
  {
   "cell_type": "code",
   "execution_count": 90,
   "id": "0bcd5fa8-325a-47eb-a8d8-5470ebad507d",
   "metadata": {},
   "outputs": [],
   "source": [
    "hidden1 = activation(tf.matmul(X, weights1) + biases1)\n",
    "hidden2 = activation(tf.matmul(hidden1, weights2) + biases2)\n",
    "hidden3 = activation(tf.matmul(hidden2, weights3) + biases3)\n",
    "outputs = tf.matmul(hidden3, weights4) + biases4"
   ]
  },
  {
   "cell_type": "code",
   "execution_count": 91,
   "id": "6664ba5b-6880-447c-a000-1a3362593ca7",
   "metadata": {},
   "outputs": [],
   "source": [
    "reconstruction_loss = tf.reduce_mean(tf.square(outputs - X))\n",
    "reg_loss = regularizer(weights1) + regularizer(weights2)\n",
    "loss = reconstruction_loss + reg_loss"
   ]
  },
  {
   "cell_type": "code",
   "execution_count": 83,
   "id": "3b448efc-6b3d-4107-b5c6-e3ff4542d0e4",
   "metadata": {},
   "outputs": [],
   "source": [
    "optimizer = tf.compat.v1.train.AdamOptimizer(learning_rate)"
   ]
  },
  {
   "cell_type": "code",
   "execution_count": 69,
   "id": "2553a568-579b-4c99-b487-874a3322f364",
   "metadata": {},
   "outputs": [],
   "source": [
    "training_op = optimizer.minimize(loss)"
   ]
  },
  {
   "cell_type": "code",
   "execution_count": 70,
   "id": "4a026903-2274-4fc1-889d-aaade8e551d3",
   "metadata": {},
   "outputs": [],
   "source": [
    "init = tf.compat.v1.global_variables_initializer()"
   ]
  },
  {
   "cell_type": "code",
   "execution_count": 71,
   "id": "56fe33ae-5abf-4e24-8ba6-c65a8dc68af3",
   "metadata": {},
   "outputs": [
    {
     "name": "stdout",
     "output_type": "stream",
     "text": [
      "0 Train MSE: 1317.8533\n",
      "1 Train MSE: 1317.8533\n",
      "2 Train MSE: 1317.8533\n",
      "3 Train MSE: 1317.8533\n",
      "4 Train MSE: 1317.8533\n"
     ]
    }
   ],
   "source": [
    "n_epochs = 5\n",
    "batch_size = 150\n",
    "\n",
    "with tf.compat.v1.Session() as sess:\n",
    "    init.run()\n",
    "    for epoch in range(n_epochs):\n",
    "        n_batches =  x_train.shape[0] // batch_size\n",
    "        for iter in range(n_batches):\n",
    "            print(\"\\r{}%\".format(100 * iter // n_batches), end=\"\")\n",
    "            sys.stdout.flush()\n",
    "            X_batch = x_train[iter*batch_size:iter*batch_size+batch_size]\n",
    "            sess.run(training_op, feed_dict={X: X_batch})\n",
    "        #loss_train = reconstruction_loss.eval(feed_dict={X: X_batch})\n",
    "        print(\"\\r{}\".format(epoch), \"Train MSE:\", loss_train)\n",
    "    #saver.save(sess, \"./autoencoder-weights-1.ckpt\", meta_graph_suffix='meta', write_meta_graph=True)"
   ]
  },
  {
   "cell_type": "markdown",
   "id": "a5e2c171-6060-4bfb-b725-efbfcca01d7f",
   "metadata": {},
   "source": [
    "\n",
    "<h3>\n",
    "    Training one Encoder at a time\n",
    "</h3>\n",
    "<p> In phases</p>"
   ]
  },
  {
   "cell_type": "code",
   "execution_count": 101,
   "id": "95dcd30f-cb3e-48bc-9e93-bbef1ba758c6",
   "metadata": {},
   "outputs": [],
   "source": [
    "reset_graph()\n",
    "\n",
    "n_inputs = 28 * 28\n",
    "n_hidden1 = 300\n",
    "n_hidden2 = 150  # codings\n",
    "n_hidden3 = n_hidden1\n",
    "n_outputs = n_inputs\n",
    "\n",
    "learning_rate = 0.01\n",
    "l2_reg = 0.0001\n",
    "\n",
    "activation = tf.nn.elu\n",
    "regularizer = tf.keras.regularizers.L2(l2=l2_reg)\n",
    "initializer = tf.compat.v1.variance_scaling_initializer()\n",
    "\n",
    "X = tf.compat.v1.placeholder(tf.float32, shape=[None, n_inputs])\n",
    "\n",
    "weights1_init = initializer([n_inputs, n_hidden1])\n",
    "weights2_init = initializer([n_hidden1, n_hidden2])\n",
    "weights3_init = initializer([n_hidden2, n_hidden3])\n",
    "weights4_init = initializer([n_hidden3, n_outputs])\n",
    "\n",
    "weights1 = tf.compat.v1.Variable(weights1_init, dtype=tf.float32, name=\"weights1\")\n",
    "weights2 = tf.compat.v1.Variable(weights2_init, dtype=tf.float32, name=\"weights2\")\n",
    "weights3 = tf.compat.v1.Variable(weights3_init, dtype=tf.float32, name=\"weights3\")\n",
    "weights4 = tf.compat.v1.Variable(weights4_init, dtype=tf.float32, name=\"weights4\")\n",
    "\n",
    "biases1 = tf.compat.v1.Variable(tf.zeros(n_hidden1), name=\"biases1\")\n",
    "biases2 = tf.compat.v1.Variable(tf.zeros(n_hidden2), name=\"biases2\")\n",
    "biases3 = tf.compat.v1.Variable(tf.zeros(n_hidden3), name=\"biases3\")\n",
    "biases4 = tf.compat.v1.Variable(tf.zeros(n_outputs), name=\"biases4\")\n",
    "\n",
    "hidden1 = activation(tf.matmul(X, weights1) + biases1)\n",
    "hidden2 = activation(tf.matmul(hidden1, weights2) + biases2)\n",
    "hidden3 = activation(tf.matmul(hidden2, weights3) + biases3)\n",
    "outputs = tf.matmul(hidden3, weights4) + biases4\n",
    "\n",
    "reconstruction_loss = tf.reduce_mean(tf.square(outputs - X))"
   ]
  },
  {
   "cell_type": "code",
   "execution_count": 102,
   "id": "52f1df71-7771-43aa-a314-c0d2ec51cb5c",
   "metadata": {},
   "outputs": [],
   "source": [
    "optimizer = tf.compat.v1.train.AdamOptimizer(learning_rate)"
   ]
  },
  {
   "cell_type": "code",
   "execution_count": 135,
   "id": "44c6c63d-0387-4353-b156-4c65a0d7815f",
   "metadata": {},
   "outputs": [],
   "source": [
    "x_train = x_train / 255\n",
    "x_test = x_test / 255"
   ]
  },
  {
   "cell_type": "code",
   "execution_count": 123,
   "id": "c697a585-4b21-425d-9b91-abf476cb95b0",
   "metadata": {},
   "outputs": [],
   "source": [
    "with tf.compat.v1.name_scope(\"phase1\"):\n",
    "    phase1_outputs = tf.matmul(hidden1, weights4) + biases4\n",
    "    phase1_reconstruction_loss = tf.reduce_mean(tf.square(phase1_outputs - X))\n",
    "    phase1_reg_loss = regularizer(weights1) + regularizer(weights4)\n",
    "    phase1_loss = phase1_reconstruction_loss + phase1_reg_loss\n",
    "    phase1_training_op = optimizer.minimize(phase1_loss)"
   ]
  },
  {
   "cell_type": "code",
   "execution_count": 124,
   "id": "255f9661-8152-4126-b54e-0a8029465004",
   "metadata": {},
   "outputs": [],
   "source": [
    "with tf.compat.v1.name_scope(\"phase2\"):\n",
    "    phase2_reconstruction_loss = tf.reduce_mean(tf.square(hidden3 - hidden1))\n",
    "    phase2_reg_loss = regularizer(weights2) + regularizer(weights3)\n",
    "    phase2_loss = phase2_reconstruction_loss + phase2_reg_loss\n",
    "    train_vars = [weights2, biases2, weights3, biases3]\n",
    "    phase2_training_op = optimizer.minimize(phase2_loss, var_list=train_vars)"
   ]
  },
  {
   "cell_type": "code",
   "execution_count": 125,
   "id": "59c705a0-2070-40f4-a09d-9972709961c6",
   "metadata": {},
   "outputs": [],
   "source": [
    "init = tf.compat.v1.global_variables_initializer()\n",
    "saver = tf.compat.v1.train.Saver()"
   ]
  },
  {
   "cell_type": "code",
   "execution_count": 138,
   "id": "f2bc1a50-3c39-47cf-a4b7-fcf6d11e7c0e",
   "metadata": {},
   "outputs": [],
   "source": [
    "training_ops = [phase1_training_op, phase2_training_op]\n",
    "reconstruction_losses = [phase1_reconstruction_loss, phase2_reconstruction_loss]\n",
    "n_epochs = [10, 10]\n",
    "batch_sizes = [150, 150]"
   ]
  },
  {
   "cell_type": "code",
   "execution_count": 136,
   "id": "3dda1bec-f2a0-4596-be1e-23f868728b4d",
   "metadata": {},
   "outputs": [
    {
     "name": "stdout",
     "output_type": "stream",
     "text": [
      "Training phase #1\n",
      "0 Train MSE: 0.005492356\n",
      "1 Train MSE: 0.005445854\n",
      "2 Train MSE: 0.0055198227\n",
      "39% Train MSE: 0.0054396763\n",
      "4 Train MSE: 0.005361287\n",
      "5 Train MSE: 0.0053151175\n",
      "6 Train MSE: 0.005246514\n",
      "7 Train MSE: 0.0053386544\n",
      "8 Train MSE: 0.0051969723\n",
      "9 Train MSE: 0.0052527916\n",
      "10 Train MSE: 0.0051563485\n",
      "11 Train MSE: 0.005327335\n",
      "12% Train MSE: 0.0052120513\n",
      "13 Train MSE: 0.005461655\n",
      "14 Train MSE: 0.00550261\n",
      "15 Train MSE: 0.03713632\n",
      "16 Train MSE: 0.020270398\n",
      "17 Train MSE: 0.014972296\n",
      "18 Train MSE: 0.011872392\n",
      "19 Train MSE: 0.009756763\n",
      "Training phase #2\n",
      "0 Train MSE: 0.64190376\n",
      "1 Train MSE: 0.63822037\n",
      "2 Train MSE: 0.6149025\n",
      "3 Train MSE: 0.6148057\n",
      "4 Train MSE: 0.67859703\n",
      "5 Train MSE: 0.67851573\n",
      "6 Train MSE: 0.67842335\n",
      "7 Train MSE: 0.6783783\n",
      "8 Train MSE: 0.6777977\n",
      "9 Train MSE: 0.49137622\n",
      "10 Train MSE: 0.17223345\n",
      "11 Train MSE: 0.010305246\n",
      "12 Train MSE: 0.004017827\n",
      "13 Train MSE: 0.0017853425\n",
      "14 Train MSE: 0.0066294093\n",
      "15 Train MSE: 0.0024885184\n",
      "16 Train MSE: 0.002605454\n",
      "17 Train MSE: 0.003556724\n",
      "18 Train MSE: 0.0013334075\n",
      "19 Train MSE: 0.0024506582\n",
      "Test MSE: 0.03272775\n"
     ]
    }
   ],
   "source": [
    "with tf.compat.v1.Session() as sess:\n",
    "    init.run()\n",
    "    for phase in range(2):\n",
    "        print(\"Training phase #{}\".format(phase + 1))\n",
    "        for epoch in range(n_epochs[phase]):\n",
    "            n_batches = x_train.shape[0] // batch_sizes[phase]\n",
    "            for iteration in range(n_batches):\n",
    "                print(\"\\r{}%\".format(100 * iteration // n_batches), end=\"\")\n",
    "                sys.stdout.flush()\n",
    "                X_batch = x_train[iter*batch_size:iter*batch_size+batch_size]\n",
    "                sess.run(training_ops[phase], feed_dict={X: X_batch})\n",
    "            loss_train = reconstruction_losses[phase].eval(feed_dict={X: X_batch})\n",
    "            print(\"\\r{}\".format(epoch), \"Train MSE:\", loss_train)\n",
    "            saver.save(sess, \"./autoencoder-3.ckpt\")\n",
    "    loss_test = reconstruction_loss.eval(feed_dict={X: x_test})\n",
    "    print(\"Test MSE:\", loss_test)"
   ]
  },
  {
   "cell_type": "markdown",
   "id": "b1202c74-c99c-402f-a223-0c77b56e9ef9",
   "metadata": {},
   "source": [
    "<h3>\n",
    "    Visualizing the reconstructions\n",
    "</h3>"
   ]
  },
  {
   "cell_type": "code",
   "execution_count": 140,
   "id": "f0496258-d7f5-40fd-9922-d45172046c10",
   "metadata": {},
   "outputs": [
    {
     "name": "stdout",
     "output_type": "stream",
     "text": [
      "INFO:tensorflow:Restoring parameters from ./autoencoder-3.ckpt\n"
     ]
    },
    {
     "data": {
      "image/png": "[encoded data removed]",
      "text/plain": [
       "<Figure size 800x600 with 4 Axes>"
      ]
     },
     "metadata": {},
     "output_type": "display_data"
    }
   ],
   "source": [
    "show_reconstructed_digits(X, outputs, \"./autoencoder-3.ckpt\")"
   ]
  },
  {
   "cell_type": "markdown",
   "id": "22b06489-23a2-49ba-8322-95336debca88",
   "metadata": {},
   "source": [
    "<h3>\n",
    "    Visualizing the features\n",
    "</h3>"
   ]
  },
  {
   "cell_type": "code",
   "execution_count": 139,
   "id": "3918952d-04e3-479c-ab3e-27f7f52fa2b0",
   "metadata": {},
   "outputs": [
    {
     "name": "stdout",
     "output_type": "stream",
     "text": [
      "Training phase #1\n",
      "0 Train MSE: 0.005423838\n",
      "1 Train MSE: 0.005441173\n",
      "2 Train MSE: 0.0054396763\n",
      "3 Train MSE: 0.0053097857\n",
      "4 Train MSE: 0.00523209\n",
      "5 Train MSE: 0.0053386544\n",
      "6 Train MSE: 0.0052186977\n",
      "7 Train MSE: 0.00518173\n",
      "8 Train MSE: 0.005327335\n",
      "9 Train MSE: 0.0052436474\n",
      "Training phase #2\n",
      "09% Train MSE: 0.0014963793\n",
      "1 Train MSE: 0.0014345237\n",
      "2 Train MSE: 0.0014239616\n",
      "3 Train MSE: 0.001419429\n",
      "4 Train MSE: 0.0014168337\n",
      "5 Train MSE: 0.0014094303\n",
      "6 Train MSE: 0.0014109913\n",
      "7 Train MSE: 0.0013942405\n",
      "8 Train MSE: 0.0013868703\n",
      "9 Train MSE: 0.0013844004\n",
      "Test MSE: 0.029621044\n"
     ]
    }
   ],
   "source": [
    "with tf.compat.v1.Session() as sess:\n",
    "    init.run()\n",
    "    for phase in range(2):\n",
    "        print(\"Training phase #{}\".format(phase + 1))\n",
    "        for epoch in range(n_epochs[phase]):\n",
    "            n_batches = x_train.shape[0] // batch_sizes[phase]\n",
    "            for iteration in range(n_batches):\n",
    "                print(\"\\r{}%\".format(100 * iteration // n_batches), end=\"\")\n",
    "                sys.stdout.flush()\n",
    "                X_batch = x_train[iter*batch_size:iter*batch_size+batch_size]\n",
    "                sess.run(training_ops[phase], feed_dict={X: X_batch})\n",
    "            loss_train = reconstruction_losses[phase].eval(feed_dict={X: X_batch})\n",
    "            print(\"\\r{}\".format(epoch), \"Train MSE:\", loss_train)\n",
    "            weights1_val = weights1.eval()\n",
    "            saver.save(sess, \"./autoencoder-3.ckpt\")\n",
    "    loss_test = reconstruction_loss.eval(feed_dict={X: x_test})\n",
    "    print(\"Test MSE:\", loss_test)"
   ]
  },
  {
   "cell_type": "code",
   "execution_count": 142,
   "id": "a7758448-071b-4f96-b865-8842353d70ee",
   "metadata": {},
   "outputs": [
    {
     "data": {
      "image/png": "[encoded data removed]",
      "text/plain": [
       "<Figure size 640x480 with 10 Axes>"
      ]
     },
     "metadata": {},
     "output_type": "display_data"
    }
   ],
   "source": [
    "for i in range(10):\n",
    "    plt.subplot(1, 10, i + 1)\n",
    "    plot_image(weights1_val.T[i])"
   ]
  },
  {
   "cell_type": "markdown",
   "id": "60a382f1-46e0-4266-9fbc-d4dae49e3c83",
   "metadata": {},
   "source": [
    "<h3>\n",
    "    Denoising Autoencoders\n",
    "</h3>\n",
    "<p>\n",
    "    Tensorflow Implementation <br>\n",
    "    Gaussial Noise\n",
    "</p>"
   ]
  },
  {
   "cell_type": "code",
   "execution_count": 144,
   "id": "2775011b-4962-4bab-afdf-90216fc68320",
   "metadata": {},
   "outputs": [],
   "source": [
    "reset_graph()\n",
    "\n",
    "n_inputs = 28 * 28\n",
    "n_hidden1 = 300\n",
    "n_hidden2 = 150  \n",
    "n_hidden3 = n_hidden1\n",
    "n_outputs = n_inputs\n",
    "\n",
    "learning_rate = 0.01"
   ]
  },
  {
   "cell_type": "code",
   "execution_count": 148,
   "id": "730dcf53-f88c-4d6b-87bb-ad66dd35dae4",
   "metadata": {},
   "outputs": [],
   "source": [
    "noise_level = 1.0\n",
    "\n",
    "X = tf.compat.v1.placeholder(tf.float32, shape=[None, n_inputs])\n",
    "X_noisy = X + noise_level * tf.compat.v1.random_normal(tf.shape(X))\n",
    "\n",
    "hidden1 = tf.keras.layers.Dense(n_hidden1, activation=tf.nn.relu,\n",
    "                          name=\"hidden1\")(X_noisy)\n",
    "hidden2 = tf.keras.layers.Dense(n_hidden2, activation=tf.nn.relu, \n",
    "                          name=\"hidden2\")(hidden1)                       \n",
    "hidden3 = tf.keras.layers.Dense(n_hidden3, activation=tf.nn.relu, \n",
    "                          name=\"hidden3\")(hidden2)                          \n",
    "outputs = tf.keras.layers.Dense(n_outputs, name=\"outputs\")(hidden3)        \n",
    "\n",
    "reconstruction_loss = tf.reduce_mean(tf.square(outputs - X)) "
   ]
  },
  {
   "cell_type": "code",
   "execution_count": 149,
   "id": "264a8086-675a-4049-9f87-aa210ed39ba5",
   "metadata": {},
   "outputs": [],
   "source": [
    "optimizer = tf.compat.v1.train.AdamOptimizer(learning_rate)\n",
    "training_op = optimizer.minimize(reconstruction_loss)\n",
    "    \n",
    "init = tf.compat.v1.global_variables_initializer()\n",
    "saver = tf.compat.v1.train.Saver()"
   ]
  },
  {
   "cell_type": "code",
   "execution_count": 150,
   "id": "e33e264e-0d65-4ec7-90ec-1821d9108d27",
   "metadata": {},
   "outputs": [
    {
     "name": "stdout",
     "output_type": "stream",
     "text": [
      "0 Train MSE: 0.026577111\n",
      "1 Train MSE: 0.023116248\n",
      "2 Train MSE: 0.021808764\n",
      "3 Train MSE: 0.020286942\n",
      "4 Train MSE: 0.021523308\n",
      "5 Train MSE: 0.020578576\n",
      "6 Train MSE: 0.020649176\n",
      "7 Train MSE: 0.019655138\n",
      "8 Train MSE: 0.020133778\n",
      "9 Train MSE: 0.019514265\n"
     ]
    }
   ],
   "source": [
    "n_epochs = 10\n",
    "batch_size = 150\n",
    "\n",
    "with tf.compat.v1.Session() as sess:\n",
    "    init.run()\n",
    "    for epoch in range(n_epochs):\n",
    "        n_batches = x_train.shape[0] // batch_size\n",
    "        for iteration in range(n_batches):\n",
    "            print(\"\\r{}%\".format(100 * iteration // n_batches), end=\"\")\n",
    "            sys.stdout.flush()\n",
    "            X_batch = x_train[iter*batch_size:iter*batch_size+batch_size]\n",
    "            sess.run(training_op, feed_dict={X: X_batch})\n",
    "        loss_train = reconstruction_loss.eval(feed_dict={X: X_batch})\n",
    "        print(\"\\r{}\".format(epoch), \"Train MSE:\", loss_train)\n",
    "        saver.save(sess, \"./autoencoder_stacked_denoising_gaussian.ckpt\")"
   ]
  },
  {
   "cell_type": "code",
   "execution_count": 151,
   "id": "08ef0ca7-9c77-4068-a927-2cb4fe6bf910",
   "metadata": {},
   "outputs": [
    {
     "name": "stdout",
     "output_type": "stream",
     "text": [
      "INFO:tensorflow:Restoring parameters from ./autoencoder_stacked_denoising_gaussian.ckpt\n"
     ]
    },
    {
     "data": {
      "image/png": "[encoded data removed]",
      "text/plain": [
       "<Figure size 800x600 with 4 Axes>"
      ]
     },
     "metadata": {},
     "output_type": "display_data"
    }
   ],
   "source": [
    "show_reconstructed_digits(X, outputs, \"./autoencoder_stacked_denoising_gaussian.ckpt\")"
   ]
  },
  {
   "cell_type": "markdown",
   "id": "262754af-a69a-4edd-81c9-a573381ca4ec",
   "metadata": {},
   "source": [
    "<h3>\n",
    "    Denoising Autoencoders\n",
    "</h3>\n",
    "<p>\n",
    "    Tensorflow Implementation <br>\n",
    "    Dropout function\n",
    "</p>"
   ]
  },
  {
   "cell_type": "code",
   "execution_count": 158,
   "id": "1b84a179-bc51-4e46-ad0d-d68ff5c0d049",
   "metadata": {},
   "outputs": [],
   "source": [
    "reset_graph()\n",
    "\n",
    "n_inputs = 28 * 28\n",
    "n_hidden1 = 300\n",
    "n_hidden2 = 150  \n",
    "n_hidden3 = n_hidden1\n",
    "n_outputs = n_inputs\n",
    "\n",
    "learning_rate = 0.01"
   ]
  },
  {
   "cell_type": "code",
   "execution_count": 159,
   "id": "3f79ebe3-199f-4f3d-9c97-e8c02d4eac49",
   "metadata": {},
   "outputs": [],
   "source": [
    "dropout_rate = 0.3\n",
    "training = tf.compat.v1.placeholder_with_default(False, shape=(), name='training')"
   ]
  },
  {
   "cell_type": "code",
   "execution_count": 161,
   "id": "ea7650b0-d686-44d5-a15e-8926196ca079",
   "metadata": {},
   "outputs": [],
   "source": [
    "X = tf.compat.v1.placeholder(tf.float32, shape=[None, n_inputs])\n",
    "X_drop = tf.keras.layers.Dropout(dropout_rate)(X)\n",
    "\n",
    "hidden1 = tf.keras.layers.Dense(n_hidden1, activation=tf.nn.relu,\n",
    "                          name=\"hidden1\")(X_drop)\n",
    "hidden2 = tf.keras.layers.Dense(n_hidden2, activation=tf.nn.relu, \n",
    "                          name=\"hidden2\")(hidden1)                   \n",
    "hidden3 = tf.keras.layers.Dense(n_hidden3, activation=tf.nn.relu, \n",
    "                          name=\"hidden3\")(hidden2)                            \n",
    "outputs = tf.keras.layers.Dense(n_outputs, name=\"outputs\")(hidden3)       \n",
    "\n",
    "reconstruction_loss = tf.reduce_mean(tf.square(outputs - X)) # MSE"
   ]
  },
  {
   "cell_type": "code",
   "execution_count": 162,
   "id": "fae9fe16-2029-403f-a0f3-8fcd0a235a3b",
   "metadata": {},
   "outputs": [],
   "source": [
    "optimizer = tf.compat.v1.train.AdamOptimizer(learning_rate)\n",
    "training_op = optimizer.minimize(reconstruction_loss)\n",
    "    \n",
    "init = tf.compat.v1.global_variables_initializer()\n",
    "saver = tf.compat.v1.train.Saver()"
   ]
  },
  {
   "cell_type": "code",
   "execution_count": 163,
   "id": "c2c4a3e9-e2c2-4366-9ee0-09e5e0d2aee6",
   "metadata": {},
   "outputs": [
    {
     "name": "stdout",
     "output_type": "stream",
     "text": [
      "0 Train MSE: 0.004028695\n",
      "1 Train MSE: 0.002298606\n",
      "2 Train MSE: 0.0018749778\n",
      "3 Train MSE: 0.0018777306\n",
      "4 Train MSE: 0.001622035\n",
      "59% Train MSE: 0.0012945717\n",
      "6 Train MSE: 0.0012689398\n",
      "7 Train MSE: 0.0011115322\n",
      "8 Train MSE: 0.0012996946\n",
      "9 Train MSE: 0.0011504764\n"
     ]
    }
   ],
   "source": [
    "n_epochs = 10\n",
    "batch_size = 150\n",
    "\n",
    "with tf.compat.v1.Session() as sess:\n",
    "    init.run()\n",
    "    for epoch in range(n_epochs):\n",
    "        n_batches = x_train.shape[0] // batch_size\n",
    "        for iteration in range(n_batches):\n",
    "            print(\"\\r{}%\".format(100 * iteration // n_batches), end=\"\")\n",
    "            sys.stdout.flush()\n",
    "            X_batch = x_train[iter*batch_size:iter*batch_size+batch_size]\n",
    "            sess.run(training_op, feed_dict={X: X_batch})\n",
    "        loss_train = reconstruction_loss.eval(feed_dict={X: X_batch})\n",
    "        print(\"\\r{}\".format(epoch), \"Train MSE:\", loss_train)\n",
    "        saver.save(sess, \"./autoencoder_stacked_denoising_dropout.ckpt\")"
   ]
  },
  {
   "cell_type": "code",
   "execution_count": 165,
   "id": "a232a332-15a7-489d-b2b9-2c6650931b2f",
   "metadata": {},
   "outputs": [
    {
     "name": "stdout",
     "output_type": "stream",
     "text": [
      "INFO:tensorflow:Restoring parameters from ./autoencoder_stacked_denoising_dropout.ckpt\n"
     ]
    },
    {
     "data": {
      "image/png": "[encoded data removed]",
      "text/plain": [
       "<Figure size 800x600 with 4 Axes>"
      ]
     },
     "metadata": {},
     "output_type": "display_data"
    }
   ],
   "source": [
    "show_reconstructed_digits(X, outputs, \"./autoencoder_stacked_denoising_dropout.ckpt\")"
   ]
  },
  {
   "cell_type": "markdown",
   "id": "60280047-6289-469b-9a0e-febb05a684f2",
   "metadata": {},
   "source": [
    "<h3>\n",
    "    Sparse Autoencoders\n",
    "</h3>\n",
    "<p>\n",
    "    Using the Kulback - Leiber Divergence which has a stronger gradient that Mean - Squared Error\n",
    "</p>"
   ]
  },
  {
   "cell_type": "code",
   "execution_count": 167,
   "id": "6d956660-af18-40d1-80e9-ec3679b2c8f3",
   "metadata": {},
   "outputs": [
    {
     "data": {
      "image/png": "[encoded data removed]",
      "text/plain": [
       "<Figure size 640x480 with 1 Axes>"
      ]
     },
     "metadata": {},
     "output_type": "display_data"
    }
   ],
   "source": [
    "p = 0.1\n",
    "q = np.linspace(0.001, 0.999, 500)\n",
    "kl_div = p * np.log(p / q) + (1 - p) * np.log((1 - p) / (1 - q))\n",
    "mse = (p - q)**2\n",
    "plt.plot([p, p], [0, 0.3], \"k:\")\n",
    "plt.text(0.05, 0.32, \"Target\\nsparsity\", fontsize=14)\n",
    "plt.plot(q, kl_div, \"b-\", label=\"KL divergence\")\n",
    "plt.plot(q, mse, \"r--\", label=\"MSE\")\n",
    "plt.legend(loc=\"upper left\")\n",
    "plt.xlabel(\"Actual sparsity\")\n",
    "plt.ylabel(\"Cost\", rotation=0)\n",
    "plt.axis([0, 1, 0, 0.95])\n",
    "plt.show()"
   ]
  },
  {
   "cell_type": "code",
   "execution_count": 206,
   "id": "2efa30fa-f8d4-4807-a5fb-07d6b317d0c0",
   "metadata": {},
   "outputs": [],
   "source": [
    "reset_graph()\n",
    "\n",
    "n_inputs = 28 * 28\n",
    "n_hidden1 = 1000  # sparse codings\n",
    "n_outputs = n_inputs"
   ]
  },
  {
   "cell_type": "code",
   "execution_count": 207,
   "id": "a6d04529-c124-4f12-a3d2-d1f7dc218cd0",
   "metadata": {},
   "outputs": [],
   "source": [
    "def kl_divergence(p, q):\n",
    "    return p * tf.compat.v1.log(p/q) + (1 - p) * tf.compat.v1.log((1 - p) / (1 - q))"
   ]
  },
  {
   "cell_type": "code",
   "execution_count": 208,
   "id": "0834295e-4520-4054-b780-d27a2d51e539",
   "metadata": {},
   "outputs": [],
   "source": [
    "learning_rate = 0.01\n",
    "sparsity_target = 0.1\n",
    "sparsity_weight = 0.2"
   ]
  },
  {
   "cell_type": "code",
   "execution_count": 209,
   "id": "cc56cb06-1dc4-4d22-ad1d-0b389bec3c1d",
   "metadata": {},
   "outputs": [],
   "source": [
    "X = tf.compat.v1.placeholder(tf.float32, shape=[None, n_inputs])            \n",
    "\n",
    "hidden1 = tf.keras.layers.Dense(n_hidden1, activation=tf.compat.v1.nn.sigmoid)(X)\n",
    "outputs = tf.keras.layers.Dense(n_outputs)(hidden1)             "
   ]
  },
  {
   "cell_type": "code",
   "execution_count": 210,
   "id": "d554019e-efc6-4cb5-a490-7eb10ef5ad8a",
   "metadata": {},
   "outputs": [],
   "source": [
    "hidden1_mean = tf.reduce_mean(hidden1, axis=0) \n",
    "sparsity_loss = tf.reduce_sum(kl_divergence(sparsity_target, hidden1_mean))\n",
    "reconstruction_loss = tf.reduce_mean(tf.square(outputs - X)) \n",
    "loss = reconstruction_loss + sparsity_weight * sparsity_loss\n",
    "\n",
    "optimizer = tf.compat.v1.train.AdamOptimizer(learning_rate)\n",
    "training_op = optimizer.minimize(loss)"
   ]
  },
  {
   "cell_type": "code",
   "execution_count": 211,
   "id": "a6c3ef01-6400-4830-b6d8-89489572a536",
   "metadata": {},
   "outputs": [],
   "source": [
    "init = tf.compat.v1.global_variables_initializer()\n",
    "saver = tf.compat.v1.train.Saver()"
   ]
  },
  {
   "cell_type": "code",
   "execution_count": 212,
   "id": "033fb716-1a77-453e-8b1d-1af2b33e2007",
   "metadata": {},
   "outputs": [
    {
     "name": "stdout",
     "output_type": "stream",
     "text": [
      "0 Train MSE: nan \tSparsity loss: nan \tTotal loss: nan\n",
      "1 Train MSE: nan \tSparsity loss: nan \tTotal loss: nan\n",
      "2 Train MSE: nan \tSparsity loss: nan \tTotal loss: nan\n",
      "3 Train MSE: nan \tSparsity loss: nan \tTotal loss: nan\n",
      "4 Train MSE: nan \tSparsity loss: nan \tTotal loss: nan\n",
      "5 Train MSE: nan \tSparsity loss: nan \tTotal loss: nan\n",
      "6 Train MSE: nan \tSparsity loss: nan \tTotal loss: nan\n",
      "7 Train MSE: nan \tSparsity loss: nan \tTotal loss: nan\n",
      "8 Train MSE: nan \tSparsity loss: nan \tTotal loss: nan\n",
      "9 Train MSE: nan \tSparsity loss: nan \tTotal loss: nan\n",
      "10 Train MSE: nan \tSparsity loss: nan \tTotal loss: nan\n",
      "11 Train MSE: nan \tSparsity loss: nan \tTotal loss: nan\n",
      "12 Train MSE: nan \tSparsity loss: nan \tTotal loss: nan\n",
      "13 Train MSE: nan \tSparsity loss: nan \tTotal loss: nan\n",
      "14 Train MSE: nan \tSparsity loss: nan \tTotal loss: nan\n",
      "15 Train MSE: nan \tSparsity loss: nan \tTotal loss: nan\n",
      "16 Train MSE: nan \tSparsity loss: nan \tTotal loss: nan\n",
      "17 Train MSE: nan \tSparsity loss: nan \tTotal loss: nan\n",
      "18 Train MSE: nan \tSparsity loss: nan \tTotal loss: nan\n",
      "19 Train MSE: nan \tSparsity loss: nan \tTotal loss: nan\n",
      "20 Train MSE: nan \tSparsity loss: nan \tTotal loss: nan\n",
      "21 Train MSE: nan \tSparsity loss: nan \tTotal loss: nan\n",
      "22 Train MSE: nan \tSparsity loss: nan \tTotal loss: nan\n",
      "23 Train MSE: nan \tSparsity loss: nan \tTotal loss: nan\n",
      "24 Train MSE: nan \tSparsity loss: nan \tTotal loss: nan\n",
      "25 Train MSE: nan \tSparsity loss: nan \tTotal loss: nan\n",
      "26 Train MSE: nan \tSparsity loss: nan \tTotal loss: nan\n",
      "27 Train MSE: nan \tSparsity loss: nan \tTotal loss: nan\n",
      "28 Train MSE: nan \tSparsity loss: nan \tTotal loss: nan\n",
      "29 Train MSE: nan \tSparsity loss: nan \tTotal loss: nan\n",
      "30 Train MSE: nan \tSparsity loss: nan \tTotal loss: nan\n",
      "31 Train MSE: nan \tSparsity loss: nan \tTotal loss: nan\n",
      "32 Train MSE: nan \tSparsity loss: nan \tTotal loss: nan\n",
      "33 Train MSE: nan \tSparsity loss: nan \tTotal loss: nan\n",
      "34 Train MSE: nan \tSparsity loss: nan \tTotal loss: nan\n",
      "35 Train MSE: nan \tSparsity loss: nan \tTotal loss: nan\n",
      "36 Train MSE: nan \tSparsity loss: nan \tTotal loss: nan\n",
      "37 Train MSE: nan \tSparsity loss: nan \tTotal loss: nan\n",
      "38 Train MSE: nan \tSparsity loss: nan \tTotal loss: nan\n",
      "39 Train MSE: nan \tSparsity loss: nan \tTotal loss: nan\n",
      "40 Train MSE: nan \tSparsity loss: nan \tTotal loss: nan\n",
      "41 Train MSE: nan \tSparsity loss: nan \tTotal loss: nan\n",
      "42 Train MSE: nan \tSparsity loss: nan \tTotal loss: nan\n",
      "43 Train MSE: nan \tSparsity loss: nan \tTotal loss: nan\n",
      "44 Train MSE: nan \tSparsity loss: nan \tTotal loss: nan\n",
      "45 Train MSE: nan \tSparsity loss: nan \tTotal loss: nan\n",
      "46 Train MSE: nan \tSparsity loss: nan \tTotal loss: nan\n",
      "47 Train MSE: nan \tSparsity loss: nan \tTotal loss: nan\n",
      "48 Train MSE: nan \tSparsity loss: nan \tTotal loss: nan\n",
      "49 Train MSE: nan \tSparsity loss: nan \tTotal loss: nan\n",
      "50 Train MSE: nan \tSparsity loss: nan \tTotal loss: nan\n",
      "51 Train MSE: nan \tSparsity loss: nan \tTotal loss: nan\n",
      "52 Train MSE: nan \tSparsity loss: nan \tTotal loss: nan\n",
      "53 Train MSE: nan \tSparsity loss: nan \tTotal loss: nan\n",
      "54 Train MSE: nan \tSparsity loss: nan \tTotal loss: nan\n",
      "55 Train MSE: nan \tSparsity loss: nan \tTotal loss: nan\n",
      "56 Train MSE: nan \tSparsity loss: nan \tTotal loss: nan\n",
      "57 Train MSE: nan \tSparsity loss: nan \tTotal loss: nan\n",
      "58 Train MSE: nan \tSparsity loss: nan \tTotal loss: nan\n",
      "59 Train MSE: nan \tSparsity loss: nan \tTotal loss: nan\n",
      "60 Train MSE: nan \tSparsity loss: nan \tTotal loss: nan\n",
      "61 Train MSE: nan \tSparsity loss: nan \tTotal loss: nan\n",
      "62 Train MSE: nan \tSparsity loss: nan \tTotal loss: nan\n",
      "63 Train MSE: nan \tSparsity loss: nan \tTotal loss: nan\n",
      "64 Train MSE: nan \tSparsity loss: nan \tTotal loss: nan\n",
      "65 Train MSE: nan \tSparsity loss: nan \tTotal loss: nan\n",
      "66 Train MSE: nan \tSparsity loss: nan \tTotal loss: nan\n",
      "67 Train MSE: nan \tSparsity loss: nan \tTotal loss: nan\n",
      "68 Train MSE: nan \tSparsity loss: nan \tTotal loss: nan\n",
      "69 Train MSE: nan \tSparsity loss: nan \tTotal loss: nan\n",
      "70 Train MSE: nan \tSparsity loss: nan \tTotal loss: nan\n",
      "71 Train MSE: nan \tSparsity loss: nan \tTotal loss: nan\n",
      "72 Train MSE: nan \tSparsity loss: nan \tTotal loss: nan\n",
      "73 Train MSE: nan \tSparsity loss: nan \tTotal loss: nan\n",
      "74 Train MSE: nan \tSparsity loss: nan \tTotal loss: nan\n",
      "75 Train MSE: nan \tSparsity loss: nan \tTotal loss: nan\n",
      "76 Train MSE: nan \tSparsity loss: nan \tTotal loss: nan\n",
      "77 Train MSE: nan \tSparsity loss: nan \tTotal loss: nan\n",
      "78 Train MSE: nan \tSparsity loss: nan \tTotal loss: nan\n",
      "79 Train MSE: nan \tSparsity loss: nan \tTotal loss: nan\n",
      "80 Train MSE: nan \tSparsity loss: nan \tTotal loss: nan\n",
      "81 Train MSE: nan \tSparsity loss: nan \tTotal loss: nan\n",
      "82 Train MSE: nan \tSparsity loss: nan \tTotal loss: nan\n",
      "83 Train MSE: nan \tSparsity loss: nan \tTotal loss: nan\n",
      "84 Train MSE: nan \tSparsity loss: nan \tTotal loss: nan\n",
      "85 Train MSE: nan \tSparsity loss: nan \tTotal loss: nan\n",
      "86 Train MSE: nan \tSparsity loss: nan \tTotal loss: nan\n",
      "87 Train MSE: nan \tSparsity loss: nan \tTotal loss: nan\n",
      "88 Train MSE: nan \tSparsity loss: nan \tTotal loss: nan\n",
      "89 Train MSE: nan \tSparsity loss: nan \tTotal loss: nan\n",
      "90 Train MSE: nan \tSparsity loss: nan \tTotal loss: nan\n",
      "91 Train MSE: nan \tSparsity loss: nan \tTotal loss: nan\n",
      "92 Train MSE: nan \tSparsity loss: nan \tTotal loss: nan\n",
      "93 Train MSE: nan \tSparsity loss: nan \tTotal loss: nan\n",
      "94 Train MSE: nan \tSparsity loss: nan \tTotal loss: nan\n",
      "95 Train MSE: nan \tSparsity loss: nan \tTotal loss: nan\n",
      "96 Train MSE: nan \tSparsity loss: nan \tTotal loss: nan\n",
      "97 Train MSE: nan \tSparsity loss: nan \tTotal loss: nan\n",
      "98 Train MSE: nan \tSparsity loss: nan \tTotal loss: nan\n",
      "99 Train MSE: nan \tSparsity loss: nan \tTotal loss: nan\n"
     ]
    }
   ],
   "source": [
    "n_epochs = 100\n",
    "batch_size = 1000\n",
    "\n",
    "with tf.compat.v1.Session() as sess:\n",
    "    init.run()\n",
    "    for epoch in range(n_epochs):\n",
    "        n_batches = x_train.shape[0] // batch_size\n",
    "        for iteration in range(n_batches):\n",
    "            print(\"\\r{}%\".format(100 * iteration // n_batches), end=\"\")\n",
    "            sys.stdout.flush()\n",
    "            X_batch = x_train[iter*batch_size:iter*batch_size+batch_size]\n",
    "            sess.run(training_op, feed_dict={X: X_batch})\n",
    "        reconstruction_loss_val, sparsity_loss_val, loss_val = sess.run([reconstruction_loss, sparsity_loss, loss], feed_dict={X: X_batch})\n",
    "        print(\"\\r{}\".format(epoch), \"Train MSE:\", reconstruction_loss_val, \"\\tSparsity loss:\", sparsity_loss_val, \"\\tTotal loss:\", loss_val)\n",
    "        saver.save(sess, \"./autoencoder_sparsity.ckpt\")"
   ]
  },
  {
   "cell_type": "code",
   "execution_count": 213,
   "id": "bf4e5944-ba52-4262-b731-8d0187ebe53b",
   "metadata": {},
   "outputs": [
    {
     "name": "stdout",
     "output_type": "stream",
     "text": [
      "INFO:tensorflow:Restoring parameters from ./autoencoder_sparsity.ckpt\n"
     ]
    },
    {
     "data": {
      "image/png": "[encoded data removed]",
      "text/plain": [
       "<Figure size 800x600 with 4 Axes>"
      ]
     },
     "metadata": {},
     "output_type": "display_data"
    }
   ],
   "source": [
    "show_reconstructed_digits(X, outputs, \"./autoencoder_sparsity.ckpt\")"
   ]
  },
  {
   "cell_type": "markdown",
   "id": "7f51cfd1-ab8b-46b3-88e7-3f9e18b29037",
   "metadata": {},
   "source": [
    "<h3>\n",
    "    AutoEncoders\n",
    "</h3>"
   ]
  },
  {
   "cell_type": "code",
   "execution_count": 214,
   "id": "dd35fb2d-a5ea-420e-bc4c-81735d79176d",
   "metadata": {},
   "outputs": [],
   "source": [
    "reset_graph()"
   ]
  },
  {
   "cell_type": "code",
   "execution_count": 8,
   "id": "45709f82-9b78-4f50-a93e-b91265169f30",
   "metadata": {},
   "outputs": [],
   "source": [
    "eps = 0.0000000001"
   ]
  },
  {
   "cell_type": "code",
   "execution_count": 9,
   "id": "dc163ba0-56f1-438e-8bdb-10dfa3603d43",
   "metadata": {},
   "outputs": [],
   "source": [
    "from functools import partial\n",
    "\n",
    "n_inputs = 28 * 28\n",
    "n_hidden1 = 500\n",
    "n_hidden2 = 500\n",
    "n_hidden3 = 20  # codings\n",
    "n_hidden4 = n_hidden2\n",
    "n_hidden5 = n_hidden1\n",
    "n_outputs = n_inputs\n",
    "learning_rate = 0.001\n",
    "\n",
    "initializer = tf.compat.v1.variance_scaling_initializer()\n",
    "\n",
    "my_dense_layer = partial(\n",
    "    tf.keras.layers.Dense,\n",
    "    activation=tf.nn.elu,\n",
    "    kernel_initializer=initializer)\n",
    "\n",
    "X = tf.compat.v1.placeholder(tf.float32, [None, n_inputs])\n",
    "hidden1 = my_dense_layer(n_hidden1)(X)\n",
    "hidden2 = my_dense_layer(n_hidden2)(hidden1)\n",
    "hidden3_mean = my_dense_layer(n_hidden3, activation=None)(hidden2)\n",
    "hidden3_sigma = my_dense_layer(n_hidden3, activation=None)(hidden2)\n",
    "noise = tf.compat.v1.random_normal(tf.shape(hidden3_sigma), dtype=tf.float32)\n",
    "hidden3 = hidden3_mean + hidden3_sigma * noise\n",
    "hidden4 = my_dense_layer(n_hidden4)(hidden3)\n",
    "hidden5 = my_dense_layer(n_hidden5)(hidden4)\n",
    "logits = my_dense_layer(n_outputs, activation=None)(hidden5)\n",
    "outputs = tf.sigmoid(logits)\n",
    "\n",
    "xentropy = tf.compat.v1.nn.sigmoid_cross_entropy_with_logits(labels=X, logits=logits)\n",
    "reconstruction_loss = tf.reduce_sum(xentropy)"
   ]
  },
  {
   "cell_type": "code",
   "execution_count": 10,
   "id": "73941916-db39-4f10-a9d1-079df75e7d9b",
   "metadata": {},
   "outputs": [],
   "source": [
    "eps = 1e-10 \n",
    "latent_loss = 0.5 * tf.reduce_sum(\n",
    "    tf.square(hidden3_sigma) + tf.square(hidden3_mean)\n",
    "    - 1 - tf.compat.v1.log(eps + tf.square(hidden3_sigma)))"
   ]
  },
  {
   "cell_type": "code",
   "execution_count": 17,
   "id": "e1e0a706-716b-49b5-be2f-f53a77e65197",
   "metadata": {},
   "outputs": [],
   "source": [
    "loss = reconstruction_loss + latent_loss\n",
    "\n",
    "optimizer = tf.compat.v1.train.AdamOptimizer(learning_rate=learning_rate)\n",
    "training_op = optimizer.minimize(loss)\n",
    "\n",
    "init = tf.compat.v1.global_variables_initializer()\n",
    "saver = tf.compat.v1.train.Saver()"
   ]
  },
  {
   "cell_type": "code",
   "execution_count": 16,
   "id": "4f37113d-0cc7-42fb-afd9-86ad31ec448a",
   "metadata": {},
   "outputs": [],
   "source": [
    "x_train = x_train / 255\n",
    "x_test = x_test / 255"
   ]
  },
  {
   "cell_type": "code",
   "execution_count": 224,
   "id": "e1e79537-92d8-48a8-8133-06afb9080788",
   "metadata": {},
   "outputs": [
    {
     "name": "stdout",
     "output_type": "stream",
     "text": [
      "0 Train total loss: 24339.525 \tReconstruction loss: 17193.654 \tLatent loss: 7145.8716\n",
      "1 Train total loss: 16689.973 \tReconstruction loss: 11982.455 \tLatent loss: 4707.5176\n",
      "2 Train total loss: 18833.414 \tReconstruction loss: 13416.554 \tLatent loss: 5416.86\n",
      "3 Train total loss: 14626.069 \tReconstruction loss: 10117.3125 \tLatent loss: 4508.757\n",
      "4 Train total loss: 11220.121 \tReconstruction loss: 8332.217 \tLatent loss: 2887.9048\n",
      "5 Train total loss: 10437.251 \tReconstruction loss: 7946.009 \tLatent loss: 2491.242\n",
      "6 Train total loss: 10076.691 \tReconstruction loss: 7791.7734 \tLatent loss: 2284.9177\n",
      "7 Train total loss: 9857.266 \tReconstruction loss: 7673.995 \tLatent loss: 2183.2708\n",
      "8 Train total loss: 9672.844 \tReconstruction loss: 7678.05 \tLatent loss: 1994.7944\n",
      "9 Train total loss: 9575.523 \tReconstruction loss: 7653.066 \tLatent loss: 1922.4578\n",
      "10 Train total loss: 9420.159 \tReconstruction loss: 7503.4395 \tLatent loss: 1916.7201\n",
      "11 Train total loss: 9322.221 \tReconstruction loss: 7488.6426 \tLatent loss: 1833.5784\n",
      "12 Train total loss: 9270.591 \tReconstruction loss: 7547.163 \tLatent loss: 1723.428\n",
      "13 Train total loss: 9287.936 \tReconstruction loss: 7603.6543 \tLatent loss: 1684.2815\n",
      "14 Train total loss: 9505.247 \tReconstruction loss: 7708.809 \tLatent loss: 1796.4376\n",
      "15 Train total loss: 26056.22 \tReconstruction loss: 14148.186 \tLatent loss: 11908.035\n",
      "16 Train total loss: 17270.033 \tReconstruction loss: 10933.413 \tLatent loss: 6336.62\n",
      "17 Train total loss: 12575.734 \tReconstruction loss: 9380.225 \tLatent loss: 3195.5098\n",
      "18 Train total loss: 10079.2705 \tReconstruction loss: 7886.6606 \tLatent loss: 2192.6099\n",
      "19 Train total loss: 9365.834 \tReconstruction loss: 7434.382 \tLatent loss: 1931.4524\n",
      "20 Train total loss: 9130.084 \tReconstruction loss: 7317.703 \tLatent loss: 1812.3805\n",
      "21 Train total loss: 9130.026 \tReconstruction loss: 7411.3916 \tLatent loss: 1718.6345\n",
      "22 Train total loss: 9061.617 \tReconstruction loss: 7377.9346 \tLatent loss: 1683.6821\n",
      "23 Train total loss: 8948.75 \tReconstruction loss: 7285.991 \tLatent loss: 1662.7588\n",
      "24 Train total loss: 18135.371 \tReconstruction loss: 11815.902 \tLatent loss: 6319.4688\n",
      "25 Train total loss: 14621.445 \tReconstruction loss: 8965.589 \tLatent loss: 5655.8564\n",
      "26 Train total loss: 20201.97 \tReconstruction loss: 10003.964 \tLatent loss: 10198.007\n",
      "27 Train total loss: 10576.521 \tReconstruction loss: 7556.1807 \tLatent loss: 3020.341\n",
      "28 Train total loss: 9421.273 \tReconstruction loss: 7392.285 \tLatent loss: 2028.9885\n",
      "29 Train total loss: 9190.541 \tReconstruction loss: 7390.4336 \tLatent loss: 1800.1073\n",
      "30 Train total loss: 9079.451 \tReconstruction loss: 7253.794 \tLatent loss: 1825.6573\n",
      "31 Train total loss: 9018.035 \tReconstruction loss: 7320.5254 \tLatent loss: 1697.5098\n",
      "32 Train total loss: 8966.245 \tReconstruction loss: 7405.2383 \tLatent loss: 1561.007\n",
      "33 Train total loss: 8953.886 \tReconstruction loss: 7218.867 \tLatent loss: 1735.0182\n",
      "34 Train total loss: 8911.959 \tReconstruction loss: 7178.507 \tLatent loss: 1733.4521\n",
      "35 Train total loss: 24457.191 \tReconstruction loss: 12794.2 \tLatent loss: 11662.99\n",
      "36 Train total loss: 19563.812 \tReconstruction loss: 12107.823 \tLatent loss: 7455.9893\n",
      "37 Train total loss: 11606.932 \tReconstruction loss: 8050.493 \tLatent loss: 3556.439\n",
      "38 Train total loss: 10371.811 \tReconstruction loss: 7528.2764 \tLatent loss: 2843.534\n",
      "39 Train total loss: 9173.105 \tReconstruction loss: 7404.2544 \tLatent loss: 1768.8508\n",
      "40 Train total loss: 9089.998 \tReconstruction loss: 7292.6426 \tLatent loss: 1797.3552\n",
      "41 Train total loss: 8994.455 \tReconstruction loss: 7298.2334 \tLatent loss: 1696.2219\n",
      "42 Train total loss: 8872.027 \tReconstruction loss: 7226.9917 \tLatent loss: 1645.0353\n",
      "43 Train total loss: 8876.937 \tReconstruction loss: 7273.9214 \tLatent loss: 1603.0151\n",
      "44 Train total loss: 8779.518 \tReconstruction loss: 7163.809 \tLatent loss: 1615.7087\n",
      "45 Train total loss: 8844.237 \tReconstruction loss: 7170.057 \tLatent loss: 1674.1803\n",
      "46 Train total loss: 26434.91 \tReconstruction loss: 11963.996 \tLatent loss: 14470.914\n",
      "47 Train total loss: 13948.688 \tReconstruction loss: 10593.854 \tLatent loss: 3354.8352\n",
      "48 Train total loss: 13601.339 \tReconstruction loss: 9887.135 \tLatent loss: 3714.204\n",
      "49% Train total loss: 18512.273 \tReconstruction loss: 13613.949 \tLatent loss: 4898.323\n"
     ]
    }
   ],
   "source": [
    "n_epochs = 50\n",
    "batch_size = 150\n",
    "\n",
    "with tf.compat.v1.Session() as sess:\n",
    "    init.run()\n",
    "    for epoch in range(n_epochs):\n",
    "        n_batches = x_train.shape[0] // batch_size\n",
    "        for iteration in range(n_batches):\n",
    "            print(\"\\r{}%\".format(100 * iteration // n_batches), end=\"\")\n",
    "            sys.stdout.flush()\n",
    "            X_batch = x_train[iter*batch_size:iter*batch_size+batch_size]\n",
    "            sess.run(training_op, feed_dict={X: X_batch})\n",
    "        loss_val, reconstruction_loss_val, latent_loss_val = sess.run([loss, reconstruction_loss, latent_loss], feed_dict={X: X_batch})\n",
    "        print(\"\\r{}\".format(epoch), \"Train total loss:\", loss_val, \"\\tReconstruction loss:\", reconstruction_loss_val, \"\\tLatent loss:\", latent_loss_val)\n",
    "        saver.save(sess, \"./variational_autoencoder.ckpt\")"
   ]
  },
  {
   "cell_type": "code",
   "execution_count": 225,
   "id": "e57abc7c-4c8c-4c6c-8e46-41de8a853714",
   "metadata": {},
   "outputs": [
    {
     "name": "stdout",
     "output_type": "stream",
     "text": [
      "INFO:tensorflow:Restoring parameters from ./variational_autoencoder.ckpt\n"
     ]
    },
    {
     "data": {
      "image/png": "[encoded data removed]",
      "text/plain": [
       "<Figure size 800x600 with 4 Axes>"
      ]
     },
     "metadata": {},
     "output_type": "display_data"
    }
   ],
   "source": [
    "show_reconstructed_digits(X, outputs, \"./variational_autoencoder.ckpt\")"
   ]
  },
  {
   "cell_type": "code",
   "execution_count": 5,
   "id": "4c96c09f-1217-4571-a306-c53c744022de",
   "metadata": {},
   "outputs": [],
   "source": [
    "reset_graph()"
   ]
  },
  {
   "cell_type": "markdown",
   "id": "0debddba-1d76-4945-88b6-ee262f4a6b0b",
   "metadata": {},
   "source": [
    "<h3>\n",
    "    Generating Digits\n",
    "</h3>"
   ]
  },
  {
   "cell_type": "code",
   "execution_count": 22,
   "id": "c19b9177-bc0d-4399-9d96-38d9297f69ed",
   "metadata": {},
   "outputs": [],
   "source": [
    "import numpy\n",
    "import sys"
   ]
  },
  {
   "cell_type": "code",
   "execution_count": 25,
   "id": "cd9f628c-8bfe-42bb-ba72-1be83ae88b41",
   "metadata": {},
   "outputs": [],
   "source": [
    "n_digits = 60\n",
    "n_epochs = 10\n",
    "batch_size = 150"
   ]
  },
  {
   "cell_type": "code",
   "execution_count": 26,
   "id": "838a67c3-44b8-4caf-9afd-95e3b39eeb67",
   "metadata": {},
   "outputs": [
    {
     "name": "stdout",
     "output_type": "stream",
     "text": [
      "0 Train total loss: 26970.258 \tReconstruction loss: 21819.955 \tLatent loss: 5150.302\n",
      "1 Train total loss: 25211.334 \tReconstruction loss: 20780.361 \tLatent loss: 4430.9727\n",
      "2 Train total loss: 24829.508 \tReconstruction loss: 20139.018 \tLatent loss: 4690.49\n",
      "3 Train total loss: 29134.973 \tReconstruction loss: 20241.902 \tLatent loss: 8893.071\n",
      "4 Train total loss: 22968.412 \tReconstruction loss: 18749.086 \tLatent loss: 4219.3257\n",
      "5 Train total loss: 25279.188 \tReconstruction loss: 19949.062 \tLatent loss: 5330.1245\n",
      "6 Train total loss: 24307.04 \tReconstruction loss: 20276.594 \tLatent loss: 4030.4446\n",
      "7 Train total loss: 23205.361 \tReconstruction loss: 18547.129 \tLatent loss: 4658.2324\n",
      "8 Train total loss: 19620.832 \tReconstruction loss: 16167.004 \tLatent loss: 3453.8281\n",
      "9 Train total loss: 19693.049 \tReconstruction loss: 15633.055 \tLatent loss: 4059.9934\n"
     ]
    }
   ],
   "source": [
    "with tf.compat.v1.Session() as sess:\n",
    "    init.run()\n",
    "    for epoch in range(n_epochs):\n",
    "        n_batches = x_train.shape[0] // batch_size\n",
    "        for iter in range(n_batches):\n",
    "            print(\"\\r{}%\".format(100 * iter // n_batches), end=\"\")\n",
    "            X_batch = x_train[iter*batch_size:iter*batch_size+batch_size]\n",
    "            sys.stdout.flush()\n",
    "            sess.run(training_op, feed_dict={X: X_batch})\n",
    "        coding_rnd = np.random.normal(size=[n_digits, n_hidden3])\n",
    "        outputs_val = outputs.eval(feed_dict={hidden3: coding_rnd})\n",
    "        loss_val, reconstruction_loss_val, latent_loss_val = sess.run([loss, reconstruction_loss, latent_loss], feed_dict={X: X_batch})\n",
    "        print(\"\\r{}\".format(epoch), \"Train total loss:\", loss_val, \"\\tReconstruction loss:\", reconstruction_loss_val, \"\\tLatent loss:\", latent_loss_val)\n",
    "        saver.save(sess, \"./variational_autoencoder.ckpt\")"
   ]
  },
  {
   "cell_type": "code",
   "execution_count": 44,
   "id": "83aaab55-42bc-4359-93f6-aeadc285c3d4",
   "metadata": {
    "scrolled": true
   },
   "outputs": [
    {
     "data": {
      "image/png": "[encoded data removed]",
      "text/plain": [
       "<Figure size 10000x10000 with 60 Axes>"
      ]
     },
     "metadata": {},
     "output_type": "display_data"
    }
   ],
   "source": [
    "plt.figure(figsize=(100, 100))\n",
    "for iteration in range(n_digits):\n",
    "    plt.subplot(n_digits, 10, iteration + 1)\n",
    "    plot_image(outputs_val[iteration])"
   ]
  },
  {
   "cell_type": "code",
   "execution_count": null,
   "id": "50603046-7750-4fb1-a948-e7c8b7127412",
   "metadata": {},
   "outputs": [],
   "source": []
  }
 ],
 "metadata": {
  "kernelspec": {
   "display_name": "Python 3 (ipykernel)",
   "language": "python",
   "name": "python3"
  },
  "language_info": {
   "codemirror_mode": {
    "name": "ipython",
    "version": 3
   },
   "file_extension": ".py",
   "mimetype": "text/x-python",
   "name": "python",
   "nbconvert_exporter": "python",
   "pygments_lexer": "ipython3",
   "version": "3.11.4"
  }
 },
 "nbformat": 4,
 "nbformat_minor": 5
}
