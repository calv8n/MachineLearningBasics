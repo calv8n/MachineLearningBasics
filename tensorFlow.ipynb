{
 "cells": [
  {
   "cell_type": "markdown",
   "id": "d7c729e8-c55e-4fe7-bf25-99e799e4ca84",
   "metadata": {},
   "source": [
    "<h1>Running with tensorflow</h1>\n",
    "<body>\n",
    "    Writing a basic graph\n",
    "</body>"
   ]
  },
  {
   "cell_type": "code",
   "execution_count": 1,
   "id": "10a37ffd-bcd7-4699-86a4-10d8f948a605",
   "metadata": {},
   "outputs": [],
   "source": [
    "import tensorflow as tf\n",
    "import numpy as np"
   ]
  },
  {
   "cell_type": "code",
   "execution_count": 19,
   "id": "353b5244-2b04-443a-ae76-6a59209f8fde",
   "metadata": {},
   "outputs": [],
   "source": [
    "x = tf.Variable(3, name=\"x\")\n",
    "y = tf.Variable(4, name=\"y\")\n",
    "f = x*x*y+y+2"
   ]
  },
  {
   "cell_type": "code",
   "execution_count": 3,
   "id": "b8f7e817-e89e-4c9b-aef0-94f8191a625f",
   "metadata": {},
   "outputs": [
    {
     "data": {
      "text/plain": [
       "<tf.Tensor: shape=(), dtype=int32, numpy=42>"
      ]
     },
     "execution_count": 3,
     "metadata": {},
     "output_type": "execute_result"
    }
   ],
   "source": [
    "f"
   ]
  },
  {
   "cell_type": "code",
   "execution_count": 17,
   "id": "0a979749-052c-4c1f-ab2f-36e036cf42db",
   "metadata": {},
   "outputs": [
    {
     "ename": "RuntimeError",
     "evalue": "The Session graph is empty. Add operations to the graph before calling run().",
     "output_type": "error",
     "traceback": [
      "\u001b[0;31m---------------------------------------------------------------------------\u001b[0m",
      "\u001b[0;31mRuntimeError\u001b[0m                              Traceback (most recent call last)",
      "Cell \u001b[0;32mIn[17], line 2\u001b[0m\n\u001b[1;32m      1\u001b[0m sess \u001b[38;5;241m=\u001b[39m tf\u001b[38;5;241m.\u001b[39mcompat\u001b[38;5;241m.\u001b[39mv1\u001b[38;5;241m.\u001b[39mSession()\n\u001b[0;32m----> 2\u001b[0m \u001b[43msess\u001b[49m\u001b[38;5;241;43m.\u001b[39;49m\u001b[43mrun\u001b[49m\u001b[43m(\u001b[49m\u001b[43mx\u001b[49m\u001b[38;5;241;43m.\u001b[39;49m\u001b[43minitializer\u001b[49m\u001b[43m)\u001b[49m\n\u001b[1;32m      3\u001b[0m sess\u001b[38;5;241m.\u001b[39mrun(y\u001b[38;5;241m.\u001b[39minitializer)\n\u001b[1;32m      4\u001b[0m result \u001b[38;5;241m=\u001b[39m sess\u001b[38;5;241m.\u001b[39mrun(f)\n",
      "File \u001b[0;32m/Library/Frameworks/Python.framework/Versions/3.11/lib/python3.11/site-packages/tensorflow/python/client/session.py:969\u001b[0m, in \u001b[0;36mBaseSession.run\u001b[0;34m(self, fetches, feed_dict, options, run_metadata)\u001b[0m\n\u001b[1;32m    966\u001b[0m run_metadata_ptr \u001b[38;5;241m=\u001b[39m tf_session\u001b[38;5;241m.\u001b[39mTF_NewBuffer() \u001b[38;5;28;01mif\u001b[39;00m run_metadata \u001b[38;5;28;01melse\u001b[39;00m \u001b[38;5;28;01mNone\u001b[39;00m\n\u001b[1;32m    968\u001b[0m \u001b[38;5;28;01mtry\u001b[39;00m:\n\u001b[0;32m--> 969\u001b[0m   result \u001b[38;5;241m=\u001b[39m \u001b[38;5;28;43mself\u001b[39;49m\u001b[38;5;241;43m.\u001b[39;49m\u001b[43m_run\u001b[49m\u001b[43m(\u001b[49m\u001b[38;5;28;43;01mNone\u001b[39;49;00m\u001b[43m,\u001b[49m\u001b[43m \u001b[49m\u001b[43mfetches\u001b[49m\u001b[43m,\u001b[49m\u001b[43m \u001b[49m\u001b[43mfeed_dict\u001b[49m\u001b[43m,\u001b[49m\u001b[43m \u001b[49m\u001b[43moptions_ptr\u001b[49m\u001b[43m,\u001b[49m\n\u001b[1;32m    970\u001b[0m \u001b[43m                     \u001b[49m\u001b[43mrun_metadata_ptr\u001b[49m\u001b[43m)\u001b[49m\n\u001b[1;32m    971\u001b[0m   \u001b[38;5;28;01mif\u001b[39;00m run_metadata:\n\u001b[1;32m    972\u001b[0m     proto_data \u001b[38;5;241m=\u001b[39m tf_session\u001b[38;5;241m.\u001b[39mTF_GetBuffer(run_metadata_ptr)\n",
      "File \u001b[0;32m/Library/Frameworks/Python.framework/Versions/3.11/lib/python3.11/site-packages/tensorflow/python/client/session.py:1119\u001b[0m, in \u001b[0;36mBaseSession._run\u001b[0;34m(self, handle, fetches, feed_dict, options, run_metadata)\u001b[0m\n\u001b[1;32m   1117\u001b[0m   \u001b[38;5;28;01mraise\u001b[39;00m \u001b[38;5;167;01mRuntimeError\u001b[39;00m(\u001b[38;5;124m'\u001b[39m\u001b[38;5;124mAttempted to use a closed Session.\u001b[39m\u001b[38;5;124m'\u001b[39m)\n\u001b[1;32m   1118\u001b[0m \u001b[38;5;28;01mif\u001b[39;00m \u001b[38;5;28mself\u001b[39m\u001b[38;5;241m.\u001b[39mgraph\u001b[38;5;241m.\u001b[39mversion \u001b[38;5;241m==\u001b[39m \u001b[38;5;241m0\u001b[39m:\n\u001b[0;32m-> 1119\u001b[0m   \u001b[38;5;28;01mraise\u001b[39;00m \u001b[38;5;167;01mRuntimeError\u001b[39;00m(\u001b[38;5;124m'\u001b[39m\u001b[38;5;124mThe Session graph is empty. Add operations to the \u001b[39m\u001b[38;5;124m'\u001b[39m\n\u001b[1;32m   1120\u001b[0m                      \u001b[38;5;124m'\u001b[39m\u001b[38;5;124mgraph before calling run().\u001b[39m\u001b[38;5;124m'\u001b[39m)\n\u001b[1;32m   1122\u001b[0m \u001b[38;5;66;03m# Create request.\u001b[39;00m\n\u001b[1;32m   1123\u001b[0m feed_dict_tensor \u001b[38;5;241m=\u001b[39m {}\n",
      "\u001b[0;31mRuntimeError\u001b[0m: The Session graph is empty. Add operations to the graph before calling run()."
     ]
    }
   ],
   "source": [
    "sess = tf.compat.v1.Session()\n",
    "sess.run(x.initializer)\n",
    "sess.run(y.initializer)\n",
    "result = sess.run(f)\n",
    "print(result)"
   ]
  },
  {
   "cell_type": "code",
   "execution_count": 14,
   "id": "1adf7506-6847-4a80-b38a-be13c514c043",
   "metadata": {},
   "outputs": [],
   "source": [
    "def reset_graph(seed=42):\n",
    "    tf.compat.v1.reset_default_graph()\n",
    "    tf.compat.v1.set_random_seed(seed)\n",
    "    np.random.seed(seed)\n",
    "reset_graph()"
   ]
  },
  {
   "cell_type": "code",
   "execution_count": 16,
   "id": "f6848cd0-4248-45f5-82be-fb2353a40e54",
   "metadata": {},
   "outputs": [],
   "source": [
    "tf.compat.v1.disable_eager_execution()"
   ]
  },
  {
   "cell_type": "markdown",
   "id": "a73473c3-bbf7-4040-bc11-7a636521fbfd",
   "metadata": {},
   "source": [
    "<body>\n",
    "    Repeating it for a lot of time, a better way of running\n",
    "</body>"
   ]
  },
  {
   "cell_type": "code",
   "execution_count": 20,
   "id": "1aab5f46-d854-4326-8c3a-0734313ab9df",
   "metadata": {},
   "outputs": [],
   "source": [
    "with tf.compat.v1.Session() as sess:\n",
    "    x.initializer.run()\n",
    "    y.initializer.run()\n",
    "    result = f.eval()"
   ]
  },
  {
   "cell_type": "code",
   "execution_count": 21,
   "id": "b33e0364-26f6-474f-843d-b1b7ea1e9bdd",
   "metadata": {},
   "outputs": [
    {
     "data": {
      "text/plain": [
       "42"
      ]
     },
     "execution_count": 21,
     "metadata": {},
     "output_type": "execute_result"
    }
   ],
   "source": [
    "result"
   ]
  },
  {
   "cell_type": "code",
   "execution_count": 22,
   "id": "909bbb38-3cba-4927-a9f0-0ecbee367468",
   "metadata": {},
   "outputs": [],
   "source": [
    "init = tf.compat.v1.global_variables_initializer()\n",
    "\n",
    "with tf.compat.v1.Session() as sess:\n",
    "    init.run()\n",
    "    result = f.eval()"
   ]
  },
  {
   "cell_type": "code",
   "execution_count": 23,
   "id": "4c30737d-432b-4e6e-9ce7-777308c84140",
   "metadata": {},
   "outputs": [
    {
     "data": {
      "text/plain": [
       "42"
      ]
     },
     "execution_count": 23,
     "metadata": {},
     "output_type": "execute_result"
    }
   ],
   "source": [
    "result"
   ]
  },
  {
   "cell_type": "code",
   "execution_count": 24,
   "id": "4689d8ae-2514-4de7-b17b-9273e93bd170",
   "metadata": {},
   "outputs": [],
   "source": [
    "sess.close()"
   ]
  },
  {
   "cell_type": "markdown",
   "id": "8b25b0fb-9b61-4858-95f7-859cf1f69fcf",
   "metadata": {},
   "source": [
    "<h4>Tensorflow programming is divided into 2 parts</h4>\n",
    "<body>\n",
    "    1. building the computation, construction phase <br>\n",
    "    2. runnng the computation, execution phase\n",
    "</body>"
   ]
  },
  {
   "cell_type": "markdown",
   "id": "08ae4ce3-5cd5-44fb-ad62-b788e01e7212",
   "metadata": {},
   "source": [
    "<h3>Managing Graphs</h3>"
   ]
  },
  {
   "cell_type": "code",
   "execution_count": 25,
   "id": "ed8ecc81-91d9-42c4-a03c-7129a53fb0ce",
   "metadata": {},
   "outputs": [
    {
     "data": {
      "text/plain": [
       "True"
      ]
     },
     "execution_count": 25,
     "metadata": {},
     "output_type": "execute_result"
    }
   ],
   "source": [
    "x1 = tf.Variable(1)\n",
    "x1.graph is tf.compat.v1.get_default_graph()"
   ]
  },
  {
   "cell_type": "code",
   "execution_count": 26,
   "id": "272ebcb6-6e39-4dde-8360-eb96aafe2ba9",
   "metadata": {},
   "outputs": [],
   "source": [
    "graph = tf.Graph()\n",
    "with graph.as_default():\n",
    "    x2 = tf.Variable(2)"
   ]
  },
  {
   "cell_type": "code",
   "execution_count": 27,
   "id": "c948f6ec-c283-4cb6-b549-0afbec3d4104",
   "metadata": {},
   "outputs": [
    {
     "data": {
      "text/plain": [
       "True"
      ]
     },
     "execution_count": 27,
     "metadata": {},
     "output_type": "execute_result"
    }
   ],
   "source": [
    "x2.graph is graph"
   ]
  },
  {
   "cell_type": "code",
   "execution_count": 28,
   "id": "619d8673-c1cf-4d25-8e2b-db706d8259fa",
   "metadata": {},
   "outputs": [
    {
     "data": {
      "text/plain": [
       "False"
      ]
     },
     "execution_count": 28,
     "metadata": {},
     "output_type": "execute_result"
    }
   ],
   "source": [
    "x2.graph is tf.compat.v1.get_default_graph()"
   ]
  },
  {
   "cell_type": "markdown",
   "id": "e61f452d-d38c-41c9-b38d-1c682226b7e1",
   "metadata": {},
   "source": [
    "<h3>Life cycle of a node value</h3>"
   ]
  },
  {
   "cell_type": "code",
   "execution_count": 29,
   "id": "edac8048-b089-4fce-9ddd-373cddf26b4b",
   "metadata": {},
   "outputs": [],
   "source": [
    "w = tf.constant(3)\n",
    "x = w + 2\n",
    "y = x + 5\n",
    "z = x * 3"
   ]
  },
  {
   "cell_type": "code",
   "execution_count": 30,
   "id": "1a455226-aee2-4a15-b59d-93c38be0d14f",
   "metadata": {},
   "outputs": [
    {
     "name": "stdout",
     "output_type": "stream",
     "text": [
      "5\n",
      "10\n",
      "15\n"
     ]
    }
   ],
   "source": [
    "with tf.compat.v1.Session() as sess:\n",
    "    print(x.eval())\n",
    "    print(y.eval())\n",
    "    print(z.eval())"
   ]
  },
  {
   "cell_type": "code",
   "execution_count": 31,
   "id": "f310d742-0a60-47d4-89a6-d3c298d943b2",
   "metadata": {},
   "outputs": [
    {
     "name": "stdout",
     "output_type": "stream",
     "text": [
      "5\n",
      "10\n",
      "15\n"
     ]
    }
   ],
   "source": [
    "with tf.compat.v1.Session() as sess:\n",
    "    x_val, y_val, z_val = sess.run([x, y, z])\n",
    "    print(x_val)\n",
    "    print(y_val)\n",
    "    print(z_val)"
   ]
  },
  {
   "cell_type": "markdown",
   "id": "f1aeb347-3c6f-4373-bd32-62767edef9da",
   "metadata": {},
   "source": [
    "<h3>\n",
    "    Linear Regression with Tensorflow\n",
    "</h3>\n",
    "<body>\n",
    "    Can take any number of inputs and can produce any number of outputs\n",
    "</body>"
   ]
  },
  {
   "cell_type": "markdown",
   "id": "240a2f75-c080-4a21-ada8-cb2b2aa1d6ab",
   "metadata": {},
   "source": [
    "<body>\n",
    "    inputs and outputs are multiple dimensional arrays also called as tensors <br>\n",
    "    have type and shape\n",
    "</body>"
   ]
  },
  {
   "cell_type": "code",
   "execution_count": 32,
   "id": "ffcd2faa-b1fa-419f-9871-fdffd6c237f8",
   "metadata": {},
   "outputs": [],
   "source": [
    "import numpy as np\n",
    "from sklearn.datasets import fetch_california_housing"
   ]
  },
  {
   "cell_type": "code",
   "execution_count": 33,
   "id": "aee07b7c-9f56-43bb-b948-075237b8b6d3",
   "metadata": {},
   "outputs": [
    {
     "name": "stdout",
     "output_type": "stream",
     "text": [
      "20640 8\n"
     ]
    }
   ],
   "source": [
    "housing = fetch_california_housing()\n",
    "m, n = housing.data.shape\n",
    "print(m, n)"
   ]
  },
  {
   "cell_type": "code",
   "execution_count": 34,
   "id": "27fc2c4c-0b20-4e14-a301-861299e9fb8b",
   "metadata": {},
   "outputs": [],
   "source": [
    "housing_data_bias = np.c_[np.ones((m, 1)), housing.data]"
   ]
  },
  {
   "cell_type": "code",
   "execution_count": 35,
   "id": "3ee299f3-ad85-4414-a21d-4cdc26a87dab",
   "metadata": {},
   "outputs": [
    {
     "data": {
      "text/plain": [
       "(20640, 9)"
      ]
     },
     "execution_count": 35,
     "metadata": {},
     "output_type": "execute_result"
    }
   ],
   "source": [
    "housing_data_bias.shape"
   ]
  },
  {
   "cell_type": "code",
   "execution_count": 36,
   "id": "3135f6ba-ecba-400a-9aa6-746d12fe280e",
   "metadata": {},
   "outputs": [],
   "source": [
    "X = tf.constant(housing_data_bias, dtype=tf.float32, name=\"X\")\n",
    "y = tf.constant(housing.target.reshape(-1, 1), dtype=tf.float32, name=\"y\")"
   ]
  },
  {
   "cell_type": "code",
   "execution_count": 37,
   "id": "c4e8ad71-7d1b-4abc-85f7-7f0cdee5e141",
   "metadata": {},
   "outputs": [],
   "source": [
    "X_trans = tf.transpose(X)"
   ]
  },
  {
   "cell_type": "code",
   "execution_count": 38,
   "id": "fd09ef15-17c7-4469-86ab-c349c82f10e8",
   "metadata": {},
   "outputs": [],
   "source": [
    "theta = tf.matmul(tf.matmul(tf.compat.v1.matrix_inverse(tf.matmul(X_trans, X)), X_trans), y)"
   ]
  },
  {
   "cell_type": "code",
   "execution_count": 39,
   "id": "41b147b8-9b22-41c9-b2f6-3e1e8e5cc355",
   "metadata": {},
   "outputs": [
    {
     "data": {
      "text/plain": [
       "<tf.Tensor 'MatMul_2:0' shape=(9, 1) dtype=float32>"
      ]
     },
     "execution_count": 39,
     "metadata": {},
     "output_type": "execute_result"
    }
   ],
   "source": [
    "theta"
   ]
  },
  {
   "cell_type": "code",
   "execution_count": 40,
   "id": "97d0f97e-bc34-4ae5-b18b-7950b5fa5553",
   "metadata": {},
   "outputs": [],
   "source": [
    "with tf.compat.v1.Session() as sess:\n",
    "    theta_val = theta.eval()"
   ]
  },
  {
   "cell_type": "code",
   "execution_count": 41,
   "id": "48eaa37f-de9d-429d-a0d8-94309b7bf025",
   "metadata": {},
   "outputs": [
    {
     "name": "stdout",
     "output_type": "stream",
     "text": [
      "9\n"
     ]
    }
   ],
   "source": [
    "print(len(theta_val))"
   ]
  },
  {
   "cell_type": "code",
   "execution_count": 42,
   "id": "7bbccdc4-4d93-49e3-9280-3026a07f84e5",
   "metadata": {},
   "outputs": [
    {
     "data": {
      "text/plain": [
       "array([[-3.67705498e+01],\n",
       "       [ 4.37038541e-01],\n",
       "       [ 9.46600735e-03],\n",
       "       [-1.07598245e-01],\n",
       "       [ 6.45409822e-01],\n",
       "       [-3.89580509e-06],\n",
       "       [-3.79019836e-03],\n",
       "       [-4.19535339e-01],\n",
       "       [-4.32566136e-01]], dtype=float32)"
      ]
     },
     "execution_count": 42,
     "metadata": {},
     "output_type": "execute_result"
    }
   ],
   "source": [
    "theta_val"
   ]
  },
  {
   "cell_type": "markdown",
   "id": "3195e5f9-653e-41a2-98c1-9cc4894c6d48",
   "metadata": {},
   "source": [
    "<h4>\n",
    "    Implementing Gradient Descent\n",
    "</h4>"
   ]
  },
  {
   "cell_type": "code",
   "execution_count": 43,
   "id": "8844f916-7e6e-4751-afc5-ba674957083e",
   "metadata": {},
   "outputs": [],
   "source": [
    "n_epochs = 1000\n",
    "learning_rate = 0.01"
   ]
  },
  {
   "cell_type": "code",
   "execution_count": 44,
   "id": "e1e775b3-2425-4646-b0db-dc90b15a3f29",
   "metadata": {},
   "outputs": [],
   "source": [
    "X = tf.constant(housing_data_bias, dtype=tf.float32, name=\"X\")\n",
    "y = tf.constant(housing.target.reshape(-1, 1), dtype=tf.float32, name=\"y\")"
   ]
  },
  {
   "cell_type": "code",
   "execution_count": 45,
   "id": "b255c6a2-5dcf-4b17-af24-90d6ff4c735f",
   "metadata": {},
   "outputs": [],
   "source": [
    "theta = tf.Variable(tf.compat.v1.random_uniform([n + 1, 1], -1.0, 1.0), name=\"theta\")"
   ]
  },
  {
   "cell_type": "code",
   "execution_count": 46,
   "id": "bfdbf2cb-82e0-424e-8908-8cec9c86a7b3",
   "metadata": {},
   "outputs": [],
   "source": [
    "y_pred = tf.matmul(X, theta, name=\"predictions\")\n",
    "error = y_pred - y"
   ]
  },
  {
   "cell_type": "code",
   "execution_count": 47,
   "id": "99c1bb39-1abb-4d98-8b1f-f3658cfcc158",
   "metadata": {},
   "outputs": [],
   "source": [
    "mse = tf.reduce_mean(tf.square(error), name=\"mse\")\n",
    "gradients = 2/m * tf.matmul(tf.transpose(X), error)"
   ]
  },
  {
   "cell_type": "code",
   "execution_count": 48,
   "id": "323377e2-a825-4459-a32c-1594dcc44213",
   "metadata": {},
   "outputs": [],
   "source": [
    "training_op = tf.compat.v1.assign(theta, theta - learning_rate*gradients)"
   ]
  },
  {
   "cell_type": "code",
   "execution_count": 49,
   "id": "8cdb3034-e3be-4f29-abbb-ea8a77d08db6",
   "metadata": {},
   "outputs": [],
   "source": [
    "init = tf.compat.v1.global_variables_initializer()"
   ]
  },
  {
   "cell_type": "code",
   "execution_count": 50,
   "id": "99caaf25-bc9b-45f1-b0ac-a2fde11ed67e",
   "metadata": {},
   "outputs": [
    {
     "name": "stdout",
     "output_type": "stream",
     "text": [
      "Epoch 0 MSE = 49350.047\n",
      "Epoch 100 MSE = nan\n",
      "Epoch 200 MSE = nan\n",
      "Epoch 300 MSE = nan\n",
      "Epoch 400 MSE = nan\n",
      "Epoch 500 MSE = nan\n",
      "Epoch 600 MSE = nan\n",
      "Epoch 700 MSE = nan\n",
      "Epoch 800 MSE = nan\n",
      "Epoch 900 MSE = nan\n"
     ]
    }
   ],
   "source": [
    "mse_vals = []\n",
    "with tf.compat.v1.Session() as sess:\n",
    "    sess.run(init)\n",
    "    for epoch in range(n_epochs):\n",
    "        if epoch % 100 == 0:\n",
    "            print(\"Epoch\", epoch, \"MSE =\", mse.eval())\n",
    "        mse_vals.append(mse.eval())\n",
    "        sess.run(training_op)\n",
    "    best_theta = theta.eval()"
   ]
  },
  {
   "cell_type": "code",
   "execution_count": 51,
   "id": "047bc2fe-9b81-4eb7-b847-e57d10064bee",
   "metadata": {},
   "outputs": [],
   "source": [
    "gradients = tf.gradients(mse, [theta])[0]"
   ]
  },
  {
   "cell_type": "code",
   "execution_count": 52,
   "id": "93a3b7bc-d0a0-4ebd-9f17-d5c8f35e3b18",
   "metadata": {},
   "outputs": [
    {
     "data": {
      "text/plain": [
       "<bound method Tensor.get_shape of <tf.Tensor 'gradients/predictions_grad/MatMul_1:0' shape=(9, 1) dtype=float32>>"
      ]
     },
     "execution_count": 52,
     "metadata": {},
     "output_type": "execute_result"
    }
   ],
   "source": [
    "gradients.get_shape"
   ]
  },
  {
   "cell_type": "code",
   "execution_count": 53,
   "id": "7779d882-67d5-4195-8843-74eb62b66c1c",
   "metadata": {},
   "outputs": [],
   "source": [
    "z_val = []\n",
    "def funct(a, b):\n",
    "    z = 0\n",
    "    for i in range(100):\n",
    "        z = a * np.cos(z + i) + z * np.sin(b - i)\n",
    "        z_val.append(z)\n",
    "    return z"
   ]
  },
  {
   "cell_type": "code",
   "execution_count": 54,
   "id": "40b7fb69-1741-4057-b020-53b3a36eec18",
   "metadata": {},
   "outputs": [
    {
     "data": {
      "text/plain": [
       "-0.3771593770423273"
      ]
     },
     "execution_count": 54,
     "metadata": {},
     "output_type": "execute_result"
    }
   ],
   "source": [
    "funct(1, 2)"
   ]
  },
  {
   "cell_type": "code",
   "execution_count": 55,
   "id": "dc73127f-d4e1-430c-a6f1-50efbc98013c",
   "metadata": {},
   "outputs": [
    {
     "data": {
      "image/png": "[encoded data removed]",
      "text/plain": [
       "<Figure size 640x480 with 1 Axes>"
      ]
     },
     "metadata": {},
     "output_type": "display_data"
    }
   ],
   "source": [
    "import matplotlib\n",
    "import matplotlib.pyplot as plt\n",
    "plt.plot(z_val, 'g-')\n",
    "plt.show()"
   ]
  },
  {
   "cell_type": "markdown",
   "id": "eb62f002-8ef5-4c30-a813-b703d9db17f1",
   "metadata": {},
   "source": [
    "<h3>\n",
    "    Using an optimizer\n",
    "</h3>"
   ]
  },
  {
   "cell_type": "code",
   "execution_count": 56,
   "id": "12fe88f2-7729-4dd5-95fb-766f56d0c3c0",
   "metadata": {
    "scrolled": true
   },
   "outputs": [],
   "source": [
    "optimizer = tf.compat.v1.train.GradientDescentOptimizer(learning_rate=learning_rate)"
   ]
  },
  {
   "cell_type": "code",
   "execution_count": 57,
   "id": "3581ada1-47c7-4687-af30-835d148970aa",
   "metadata": {},
   "outputs": [],
   "source": [
    "training_op = optimizer.minimize(mse)"
   ]
  },
  {
   "cell_type": "code",
   "execution_count": 58,
   "id": "7141799a-5864-46b0-8b1c-697f1aaf8e12",
   "metadata": {},
   "outputs": [],
   "source": [
    "optimizer = tf.compat.v1.train.MomentumOptimizer(learning_rate=learning_rate, \n",
    "                                                 momentum=0.9)"
   ]
  },
  {
   "cell_type": "code",
   "execution_count": 59,
   "id": "dea3e5a6-29b0-4f98-9225-df1a378d510e",
   "metadata": {},
   "outputs": [
    {
     "data": {
      "text/plain": [
       "<tensorflow.python.training.momentum.MomentumOptimizer at 0x2cebed9d0>"
      ]
     },
     "execution_count": 59,
     "metadata": {},
     "output_type": "execute_result"
    }
   ],
   "source": [
    "optimizer"
   ]
  },
  {
   "cell_type": "markdown",
   "id": "6feb0361-38e1-411d-826e-f58b206ff5d1",
   "metadata": {},
   "source": [
    "<h3>\n",
    "    Feeding data to the training algorithm\n",
    "</h3>"
   ]
  },
  {
   "cell_type": "code",
   "execution_count": 60,
   "id": "2a639b79-0773-4f98-99ac-2c521e2a7dad",
   "metadata": {},
   "outputs": [],
   "source": [
    "A = tf.compat.v1.placeholder(tf.float32, shape=(None, 3))\n",
    "B = A + 5"
   ]
  },
  {
   "cell_type": "code",
   "execution_count": 61,
   "id": "fe11b49e-bd3b-478d-bbf8-c0897965bf48",
   "metadata": {},
   "outputs": [],
   "source": [
    "with tf.compat.v1.Session() as sess:\n",
    "    B_val_1 = B.eval(feed_dict={A: [[1, 2, 3]]})\n",
    "    B_val_2 = B.eval(feed_dict={A: [[4, 5, 6], [7, 8, 9]]})"
   ]
  },
  {
   "cell_type": "code",
   "execution_count": 62,
   "id": "768fec7a-68fb-4e3f-ab77-ee5b28754a20",
   "metadata": {},
   "outputs": [
    {
     "name": "stdout",
     "output_type": "stream",
     "text": [
      "[[6. 7. 8.]]\n"
     ]
    }
   ],
   "source": [
    "print(B_val_1)"
   ]
  },
  {
   "cell_type": "code",
   "execution_count": 63,
   "id": "f90a894c-1890-467b-a3dc-e8da1b85c354",
   "metadata": {},
   "outputs": [
    {
     "name": "stdout",
     "output_type": "stream",
     "text": [
      "[[ 9. 10. 11.]\n",
      " [12. 13. 14.]]\n"
     ]
    }
   ],
   "source": [
    "print(B_val_2)"
   ]
  },
  {
   "cell_type": "code",
   "execution_count": 64,
   "id": "09888cae-81fd-46d4-9d4f-ba6a3da7ae4d",
   "metadata": {},
   "outputs": [],
   "source": [
    "X = tf.compat.v1.placeholder(tf.float32, shape=(None, n + 1),\n",
    "                             name=\"X\")\n",
    "y = tf.compat.v1.placeholder(tf.float32, shape=(None, 1), name=\"y\")"
   ]
  },
  {
   "cell_type": "code",
   "execution_count": 65,
   "id": "c31c5dcb-78c9-428e-8733-c09c664fb983",
   "metadata": {},
   "outputs": [],
   "source": [
    "batch_size = 100\n",
    "n_batches = int(np.ceil(m / batch_size))"
   ]
  },
  {
   "cell_type": "code",
   "execution_count": 68,
   "id": "bf833f59-dad5-451d-9006-0c9247763f07",
   "metadata": {},
   "outputs": [],
   "source": [
    "def fetch_batch(epoch, batch_index, batch_size):\n",
    "    np.random.seed(epoch * n_batches + batch_index)  \n",
    "    indices = np.random.randint(m, size=batch_size)  \n",
    "    X_batch = housing_data_bias[indices] \n",
    "    y_batch = housing.target.reshape(-1, 1)[indices] \n",
    "    return X_batch, y_batch"
   ]
  },
  {
   "cell_type": "code",
   "execution_count": 69,
   "id": "54aabada-668b-453d-9e80-1a921a19f3f6",
   "metadata": {},
   "outputs": [],
   "source": [
    "with tf.compat.v1.Session() as sess:\n",
    "    sess.run(init)\n",
    "    b_t = []\n",
    "    for epoch in range(n_epochs):\n",
    "        for batch_index in range(n_batches):\n",
    "            X_batch, y_batch = fetch_batch(epoch, batch_index, batch_size)\n",
    "            sess.run(training_op, feed_dict={X: X_batch, y:y_batch})\n",
    "        best_theta = theta.eval()\n",
    "        b_t.append(best_theta)"
   ]
  },
  {
   "cell_type": "markdown",
   "id": "05ae328a-41f6-429b-a86d-f1ca22a5852d",
   "metadata": {},
   "source": [
    "<h3>\n",
    "    Saving and restoring models\n",
    "</h3>"
   ]
  },
  {
   "cell_type": "code",
   "execution_count": 72,
   "id": "74844dd2-5f4e-4d88-aa60-d9df4435bf69",
   "metadata": {},
   "outputs": [],
   "source": [
    "theta = tf.Variable(tf.compat.v1.random_uniform([n + 1, 1], -1.0, 1.0), name=\"theta\")\n"
   ]
  },
  {
   "cell_type": "code",
   "execution_count": 73,
   "id": "510a62d5-2290-4b10-97e9-db983a0413f0",
   "metadata": {},
   "outputs": [],
   "source": [
    "init = tf.compat.v1.global_variables_initializer()\n",
    "saver = tf.compat.v1.train.Saver()"
   ]
  },
  {
   "cell_type": "code",
   "execution_count": 80,
   "id": "5d11d698-82cc-4b65-b364-c3155307b6b7",
   "metadata": {},
   "outputs": [],
   "source": [
    "with tf.compat.v1.Session() as sess:\n",
    "    sess.run(init)\n",
    "\n",
    "    for epoch in range(n_epochs):\n",
    "        if epoch % 100 == 0:\n",
    "            save_path = saver.save(sess, \"my_model.ckpt\")\n",
    "        sess.run(training_op)\n",
    "    best_theta = theta.eval()\n",
    "    save_path = saver.save(sess, \"my_model_final.ckpt\")"
   ]
  },
  {
   "cell_type": "code",
   "execution_count": 81,
   "id": "601d166e-c4af-4f72-84ee-a353c3bdeee5",
   "metadata": {},
   "outputs": [
    {
     "name": "stdout",
     "output_type": "stream",
     "text": [
      "INFO:tensorflow:Restoring parameters from my_model_final.ckpt\n"
     ]
    }
   ],
   "source": [
    "with tf.compat.v1.Session() as sess:\n",
    "    saver.restore(sess, \"my_model_final.ckpt\")\n",
    "    best_theta_restored = theta.eval()"
   ]
  },
  {
   "cell_type": "code",
   "execution_count": 83,
   "id": "40c5acfe-81a4-4f6b-8c24-2bef2feb7fdf",
   "metadata": {},
   "outputs": [],
   "source": [
    "saver = tf.compat.v1.train.Saver({\"weights\": theta})"
   ]
  },
  {
   "cell_type": "code",
   "execution_count": 84,
   "id": "ecd8adfa-f3f1-4a5f-b3ce-448dae3b0b0f",
   "metadata": {},
   "outputs": [
    {
     "data": {
      "text/plain": [
       "<tensorflow.python.training.saver.Saver at 0x2d1bce650>"
      ]
     },
     "execution_count": 84,
     "metadata": {},
     "output_type": "execute_result"
    }
   ],
   "source": [
    "saver"
   ]
  },
  {
   "cell_type": "markdown",
   "id": "65ba96f2-6a30-4811-885d-1515bb0435ac",
   "metadata": {},
   "source": [
    "<h3>\n",
    "    Visualizing Graph and Training Curves using Tensorboard\n",
    "</h3>"
   ]
  },
  {
   "cell_type": "code",
   "execution_count": 85,
   "id": "c9524299-33a4-482b-930b-f55583e9b037",
   "metadata": {},
   "outputs": [],
   "source": [
    "from datetime import datetime"
   ]
  },
  {
   "cell_type": "code",
   "execution_count": 86,
   "id": "9804cbcc-628d-493e-9025-c4f12884aec9",
   "metadata": {},
   "outputs": [],
   "source": [
    "now = datetime.utcnow().strftime(\"%Y%m%d%H%M%S\")\n",
    "root_logdir = \"tf_logs\"\n",
    "logdir = \"{}/run-{}/\".format(root_logdir, now)"
   ]
  },
  {
   "cell_type": "code",
   "execution_count": 87,
   "id": "434ee3aa-d163-4f6f-9864-5915c8dd139d",
   "metadata": {},
   "outputs": [
    {
     "data": {
      "text/plain": [
       "'tf_logs/run-20240224065306/'"
      ]
     },
     "execution_count": 87,
     "metadata": {},
     "output_type": "execute_result"
    }
   ],
   "source": [
    "logdir"
   ]
  },
  {
   "cell_type": "code",
   "execution_count": 89,
   "id": "fa48bb85-401c-4365-a506-bbed8ac346cf",
   "metadata": {},
   "outputs": [],
   "source": [
    "mse_summary = tf.summary.scalar('MSE', mse)\n",
    "file_writer = tf.compat.v1.summary.FileWriter(logdir, tf.compat.v1.get_default_graph())"
   ]
  },
  {
   "cell_type": "code",
   "execution_count": 90,
   "id": "bfd0f354-18c4-4c3a-8e50-6d42551e03b9",
   "metadata": {},
   "outputs": [
    {
     "data": {
      "text/plain": [
       "<tf.Tensor 'MSE_2/write_summary/Const:0' shape=() dtype=bool>"
      ]
     },
     "execution_count": 90,
     "metadata": {},
     "output_type": "execute_result"
    }
   ],
   "source": [
    "mse_summary"
   ]
  },
  {
   "cell_type": "code",
   "execution_count": 91,
   "id": "de0925a8-39e5-40e6-aa5b-204bd77b117d",
   "metadata": {},
   "outputs": [
    {
     "data": {
      "text/plain": [
       "<tensorflow.python.summary.writer.writer.FileWriter at 0x2d3673610>"
      ]
     },
     "execution_count": 91,
     "metadata": {},
     "output_type": "execute_result"
    }
   ],
   "source": [
    "file_writer"
   ]
  },
  {
   "cell_type": "code",
   "execution_count": 93,
   "id": "8b66a950-e10c-44b4-9520-503082b25231",
   "metadata": {},
   "outputs": [
    {
     "data": {
      "text/plain": [
       "['run-20240224065306']"
      ]
     },
     "execution_count": 93,
     "metadata": {},
     "output_type": "execute_result"
    }
   ],
   "source": [
    "import os\n",
    "os.listdir(root_logdir)"
   ]
  },
  {
   "cell_type": "code",
   "execution_count": 95,
   "id": "6027402c-5e2b-4395-8973-d900b2d7671a",
   "metadata": {},
   "outputs": [
    {
     "data": {
      "text/plain": [
       "['events.out.tfevents.1708757711.Chriss-MacBook-Pro.local']"
      ]
     },
     "execution_count": 95,
     "metadata": {},
     "output_type": "execute_result"
    }
   ],
   "source": [
    "os.listdir(logdir)"
   ]
  },
  {
   "cell_type": "code",
   "execution_count": 103,
   "id": "c0570ac0-5b15-476e-80ea-8377869b765c",
   "metadata": {},
   "outputs": [],
   "source": [
    "def make_log_subdir(run_id=None):\n",
    "    if run_id is None:\n",
    "        run_id = datetime.utcnow().strftime(\"%Y%m%d%H%M%S\")\n",
    "    return \"{}/run-{}/\".format(root_logdir, run_id)"
   ]
  },
  {
   "cell_type": "code",
   "execution_count": 104,
   "id": "4355a049-2038-4ffd-91ff-14a96e3ac2bc",
   "metadata": {},
   "outputs": [],
   "source": [
    "file_writer.close()"
   ]
  },
  {
   "cell_type": "code",
   "execution_count": 105,
   "id": "d4c15b8d-517a-4ad5-a0d7-4b5038b33034",
   "metadata": {},
   "outputs": [
    {
     "name": "stdout",
     "output_type": "stream",
     "text": [
      "The tensorboard extension is already loaded. To reload it, use:\n",
      "  %reload_ext tensorboard\n"
     ]
    }
   ],
   "source": [
    "%load_ext tensorboard"
   ]
  },
  {
   "cell_type": "code",
   "execution_count": 106,
   "id": "64a6dcf0-d106-4d70-b457-facdb6800dfc",
   "metadata": {},
   "outputs": [],
   "source": [
    "def save_graph(graph=None, run_id=None):\n",
    "    if graph is None:\n",
    "        graph = tf.compat.v1.get_default_graph()\n",
    "    logdir = make_log_subdir(run_id)\n",
    "    file_writer = tf.compat.v1.summary.FileWriter(logdir, graph=graph)\n",
    "    file_writer.close()\n",
    "    return logdir"
   ]
  },
  {
   "cell_type": "code",
   "execution_count": 107,
   "id": "dc68bff6-b3e7-42d4-a7a1-a6e04cc15bfb",
   "metadata": {},
   "outputs": [
    {
     "data": {
      "text/plain": [
       "'tf_logs/run-20240224070829/'"
      ]
     },
     "execution_count": 107,
     "metadata": {},
     "output_type": "execute_result"
    }
   ],
   "source": [
    "save_graph()"
   ]
  },
  {
   "cell_type": "code",
   "execution_count": 111,
   "id": "0b99a237-d267-4ee9-b768-a5d6f185a410",
   "metadata": {},
   "outputs": [
    {
     "data": {
      "text/plain": [
       "Reusing TensorBoard on port 6006 (pid 1584), started 0:01:48 ago. (Use '!kill 1584' to kill it.)"
      ]
     },
     "metadata": {},
     "output_type": "display_data"
    },
    {
     "data": {
      "text/html": [
       "\n",
       "      <iframe id=\"tensorboard-frame-6768c82b54e2cbb8\" width=\"100%\" height=\"800\" frameborder=\"0\">\n",
       "      </iframe>\n",
       "      <script>\n",
       "        (function() {\n",
       "          const frame = document.getElementById(\"tensorboard-frame-6768c82b54e2cbb8\");\n",
       "          const url = new URL(\"/\", window.location);\n",
       "          const port = 6006;\n",
       "          if (port) {\n",
       "            url.port = port;\n",
       "          }\n",
       "          frame.src = url;\n",
       "        })();\n",
       "      </script>\n",
       "    "
      ],
      "text/plain": [
       "<IPython.core.display.HTML object>"
      ]
     },
     "metadata": {},
     "output_type": "display_data"
    }
   ],
   "source": [
    "%tensorboard --logdir {root_logdir}\n",
    "\n"
   ]
  },
  {
   "cell_type": "code",
   "execution_count": 109,
   "id": "75163698-2292-43f9-aa3f-e1f804c1efb7",
   "metadata": {},
   "outputs": [
    {
     "name": "stdout",
     "output_type": "stream",
     "text": [
      "Collecting tensorboard-plugin-profile\n",
      "  Downloading tensorboard_plugin_profile-2.15.1-py3-none-any.whl.metadata (1.0 kB)\n",
      "Collecting gviz-api>=1.9.0 (from tensorboard-plugin-profile)\n",
      "  Downloading gviz_api-1.10.0-py2.py3-none-any.whl (13 kB)\n",
      "Requirement already satisfied: protobuf<5.0.0dev,>=3.19.6 in /Library/Frameworks/Python.framework/Versions/3.11/lib/python3.11/site-packages (from tensorboard-plugin-profile) (4.24.0)\n",
      "Requirement already satisfied: setuptools>=41.0.0 in /Library/Frameworks/Python.framework/Versions/3.11/lib/python3.11/site-packages (from tensorboard-plugin-profile) (65.5.0)\n",
      "Requirement already satisfied: six>=1.10.0 in /Library/Frameworks/Python.framework/Versions/3.11/lib/python3.11/site-packages (from tensorboard-plugin-profile) (1.16.0)\n",
      "Requirement already satisfied: werkzeug>=0.11.15 in /Library/Frameworks/Python.framework/Versions/3.11/lib/python3.11/site-packages (from tensorboard-plugin-profile) (3.0.0)\n",
      "Requirement already satisfied: MarkupSafe>=2.1.1 in /Library/Frameworks/Python.framework/Versions/3.11/lib/python3.11/site-packages (from werkzeug>=0.11.15->tensorboard-plugin-profile) (2.1.3)\n",
      "Downloading tensorboard_plugin_profile-2.15.1-py3-none-any.whl (5.6 MB)\n",
      "\u001b[2K   \u001b[38;2;114;156;31m━━━━━━━━━━━━━━━━━━━━━━━━━━━━━━━━━━━━━━━━\u001b[0m \u001b[32m5.6/5.6 MB\u001b[0m \u001b[31m6.7 MB/s\u001b[0m eta \u001b[36m0:00:00\u001b[0m MB/s\u001b[0m eta \u001b[36m0:00:01\u001b[0m:01\u001b[0m\n",
      "\u001b[?25hInstalling collected packages: gviz-api, tensorboard-plugin-profile\n",
      "Successfully installed gviz-api-1.10.0 tensorboard-plugin-profile-2.15.1\n",
      "Note: you may need to restart the kernel to use updated packages.\n"
     ]
    }
   ],
   "source": [
    "pip install -U tensorboard-plugin-profile"
   ]
  },
  {
   "cell_type": "code",
   "execution_count": null,
   "id": "bdd4da64-0d5e-494d-893b-9c4919b31f66",
   "metadata": {},
   "outputs": [],
   "source": []
  }
 ],
 "metadata": {
  "kernelspec": {
   "display_name": "Python 3 (ipykernel)",
   "language": "python",
   "name": "python3"
  },
  "language_info": {
   "codemirror_mode": {
    "name": "ipython",
    "version": 3
   },
   "file_extension": ".py",
   "mimetype": "text/x-python",
   "name": "python",
   "nbconvert_exporter": "python",
   "pygments_lexer": "ipython3",
   "version": "3.11.4"
  }
 },
 "nbformat": 4,
 "nbformat_minor": 5
}
